{
 "cells": [
  {
   "cell_type": "code",
   "execution_count": 1,
   "id": "5a4c7167",
   "metadata": {},
   "outputs": [],
   "source": [
    "import os, sys\n",
    "from os import path\n",
    "sys.path.append(os.path.abspath(path.join(os.getcwd(), os.pardir, 'src')))\n",
    "\n",
    "import project_config as pc\n",
    "\n",
    "from data import utils as data_utils\n",
    "\n",
    "import re\n",
    "import pickle\n",
    "import numpy as np\n",
    "import pandas as pd"
   ]
  },
  {
   "cell_type": "code",
   "execution_count": 2,
   "id": "a273ead3",
   "metadata": {},
   "outputs": [
    {
     "name": "stdout",
     "output_type": "stream",
     "text": [
      "0\n",
      "250\n"
     ]
    }
   ],
   "source": [
    "for i in range(0, 500, 250):\n",
    "    print(i)"
   ]
  },
  {
   "cell_type": "code",
   "execution_count": 2,
   "id": "af621bfc",
   "metadata": {},
   "outputs": [],
   "source": [
    "df = data_utils.load_nyc_listings()"
   ]
  },
  {
   "cell_type": "code",
   "execution_count": 3,
   "id": "06e394d1",
   "metadata": {},
   "outputs": [],
   "source": [
    "listing_embedder = ListingEmbedder(device='cuda:0')"
   ]
  },
  {
   "cell_type": "code",
   "execution_count": 4,
   "id": "71d40ab7",
   "metadata": {},
   "outputs": [
    {
     "name": "stderr",
     "output_type": "stream",
     "text": [
      "100%|█████████████████████████████████████████| 109/109 [06:58<00:00,  3.84s/it]\n"
     ]
    }
   ],
   "source": [
    "embeddings = listing_embedder.from_dataframe(df, 400)"
   ]
  },
  {
   "cell_type": "code",
   "execution_count": 5,
   "id": "68e52b23",
   "metadata": {},
   "outputs": [
    {
     "data": {
      "text/plain": [
       "(43566, 1024)"
      ]
     },
     "execution_count": 5,
     "metadata": {},
     "output_type": "execute_result"
    }
   ],
   "source": [
    "embeddings.shape"
   ]
  },
  {
   "cell_type": "code",
   "execution_count": 12,
   "id": "f38617f4",
   "metadata": {},
   "outputs": [
    {
     "data": {
      "text/plain": [
       "array([[-0.01053734,  0.02992929, -0.02854822, ..., -0.02058447,\n",
       "        -0.02488858, -0.00536096],\n",
       "       [-0.01013899,  0.0089483 , -0.02855307, ..., -0.02224569,\n",
       "        -0.01729184, -0.01087915],\n",
       "       [ 0.00449256,  0.01541421, -0.0204808 , ..., -0.01774506,\n",
       "        -0.02749335, -0.01489215],\n",
       "       ...,\n",
       "       [ 0.01111768,  0.01973216, -0.02297438, ..., -0.01283255,\n",
       "        -0.03752194, -0.00829629],\n",
       "       [-0.00870882,  0.01095518, -0.02508694, ..., -0.02465589,\n",
       "        -0.02248235, -0.0080701 ],\n",
       "       [-0.00099459,  0.01030623, -0.0142141 , ..., -0.02049175,\n",
       "        -0.01991566, -0.01334427]], dtype=float32)"
      ]
     },
     "execution_count": 12,
     "metadata": {},
     "output_type": "execute_result"
    }
   ],
   "source": [
    "embeddings"
   ]
  },
  {
   "cell_type": "code",
   "execution_count": 6,
   "id": "8812be87",
   "metadata": {},
   "outputs": [],
   "source": [
    "scores = embeddings @ embeddings.T"
   ]
  },
  {
   "cell_type": "code",
   "execution_count": 7,
   "id": "1dea4baf",
   "metadata": {},
   "outputs": [
    {
     "data": {
      "text/plain": [
       "0.95169115"
      ]
     },
     "execution_count": 7,
     "metadata": {},
     "output_type": "execute_result"
    }
   ],
   "source": [
    "np.mean(scores)"
   ]
  },
  {
   "cell_type": "code",
   "execution_count": 25,
   "id": "921f3c6d",
   "metadata": {},
   "outputs": [
    {
     "data": {
      "text/plain": [
       "id                                                                           5121\n",
       "listing_url                                     https://www.airbnb.com/rooms/5121\n",
       "room_type                                                            Private room\n",
       "neighbourhood_group_cleansed                                             Brooklyn\n",
       "neighbourhood_cleansed                                         Bedford-Stuyvesant\n",
       "bathrooms_text                                                                NaN\n",
       "bedrooms                                                                        0\n",
       "beds                                                                            1\n",
       "accommodates                                                                    2\n",
       "price                                                                        60.0\n",
       "latitude                                                                 40.68535\n",
       "longitude                                                               -73.95512\n",
       "property_type                                         Private room in rental unit\n",
       "description                     One room available for rent in a 2 bedroom apt...\n",
       "neighborhood_overview                                                         NaN\n",
       "host_about                       I am an artist(painter, filmmaker) and curato...\n",
       "Name: 1, dtype: object"
      ]
     },
     "execution_count": 25,
     "metadata": {},
     "output_type": "execute_result"
    }
   ],
   "source": [
    "df.iloc[1]"
   ]
  },
  {
   "cell_type": "code",
   "execution_count": 26,
   "id": "a79cf801",
   "metadata": {},
   "outputs": [
    {
     "data": {
      "text/plain": [
       "id                                                                       10167436\n",
       "listing_url                                 https://www.airbnb.com/rooms/10167436\n",
       "room_type                                                            Private room\n",
       "neighbourhood_group_cleansed                                             Brooklyn\n",
       "neighbourhood_cleansed                                               Williamsburg\n",
       "bathrooms_text                                                      1 shared bath\n",
       "bedrooms                                                                        0\n",
       "beds                                                                            1\n",
       "accommodates                                                                    2\n",
       "price                                                                        50.0\n",
       "latitude                                                                 40.70904\n",
       "longitude                                                               -73.94147\n",
       "property_type                                         Private room in rental unit\n",
       "description                     Sunny, Quiet, and cozy room in fresh fun and p...\n",
       "neighborhood_overview                               L train is outside of the apt\n",
       "host_about                      Hi I am Freelance Art Director and artist that...\n",
       "Name: 6389, dtype: object"
      ]
     },
     "execution_count": 26,
     "metadata": {},
     "output_type": "execute_result"
    }
   ],
   "source": [
    "df.iloc[6389]"
   ]
  },
  {
   "cell_type": "code",
   "execution_count": 14,
   "id": "c4937e22",
   "metadata": {},
   "outputs": [],
   "source": [
    "def filter_by_price(df):\n",
    "    prices = df.price.to_numpy()\n",
    "    prices[prices == 0] = 1\n",
    "    log_prices = np.log10(prices)\n",
    "    return np.abs(log_prices[:, None] - log_prices) <= 0.3"
   ]
  },
  {
   "cell_type": "code",
   "execution_count": 58,
   "id": "6f764826",
   "metadata": {},
   "outputs": [
    {
     "data": {
      "text/plain": [
       "array([[ True, False, False, ..., False,  True, False],\n",
       "       [False,  True, False, ..., False, False,  True],\n",
       "       [False, False,  True, ...,  True, False,  True],\n",
       "       ...,\n",
       "       [False, False,  True, ...,  True, False,  True],\n",
       "       [ True, False, False, ..., False,  True, False],\n",
       "       [False,  True,  True, ...,  True, False,  True]])"
      ]
     },
     "execution_count": 58,
     "metadata": {},
     "output_type": "execute_result"
    }
   ],
   "source": [
    "# filter_by_price(df)"
   ]
  },
  {
   "cell_type": "code",
   "execution_count": 15,
   "id": "2dd78654",
   "metadata": {},
   "outputs": [],
   "source": [
    "def filter_by_neighborhood(df):\n",
    "    neighbourhoods = df.neighbourhood_cleansed.to_numpy()\n",
    "    return neighbourhoods[:, None] != neighbourhoods"
   ]
  },
  {
   "cell_type": "code",
   "execution_count": 60,
   "id": "3f7c9e85",
   "metadata": {},
   "outputs": [
    {
     "data": {
      "text/plain": [
       "array([[False,  True,  True, ...,  True,  True,  True],\n",
       "       [ True, False,  True, ...,  True,  True,  True],\n",
       "       [ True,  True, False, ...,  True,  True,  True],\n",
       "       ...,\n",
       "       [ True,  True,  True, ..., False,  True,  True],\n",
       "       [ True,  True,  True, ...,  True, False,  True],\n",
       "       [ True,  True,  True, ...,  True,  True, False]])"
      ]
     },
     "execution_count": 60,
     "metadata": {},
     "output_type": "execute_result"
    }
   ],
   "source": [
    "# filter_by_neighborhood(df)"
   ]
  },
  {
   "cell_type": "code",
   "execution_count": 16,
   "id": "ffc2630e",
   "metadata": {},
   "outputs": [],
   "source": [
    "def apply_heuristic_filters(scores, df):\n",
    "    scores *= filter_by_price(df)\n",
    "    scores *= filter_by_neighborhood(df)\n",
    "    scores[scores < 0.9] = 0\n",
    "    return scores"
   ]
  },
  {
   "cell_type": "code",
   "execution_count": 17,
   "id": "19c4fc9d",
   "metadata": {},
   "outputs": [],
   "source": [
    "scores = apply_heuristic_filters(scores, df)"
   ]
  },
  {
   "cell_type": "code",
   "execution_count": 28,
   "id": "dd06cfe2",
   "metadata": {},
   "outputs": [
    {
     "data": {
      "text/plain": [
       "array([[0.       , 0.       , 0.       , ..., 0.9432435, 0.       ,\n",
       "        0.       ],\n",
       "       [0.       , 0.       , 0.       , ..., 0.       , 0.9575317,\n",
       "        0.       ],\n",
       "       [0.       , 0.       , 0.       , ..., 0.       , 0.       ,\n",
       "        0.       ],\n",
       "       ...,\n",
       "       [0.9432435, 0.       , 0.       , ..., 0.       , 0.       ,\n",
       "        0.9580718],\n",
       "       [0.       , 0.9575317, 0.       , ..., 0.       , 0.       ,\n",
       "        0.       ],\n",
       "       [0.       , 0.       , 0.       , ..., 0.9580718, 0.       ,\n",
       "        0.       ]], dtype=float32)"
      ]
     },
     "execution_count": 28,
     "metadata": {},
     "output_type": "execute_result"
    }
   ],
   "source": [
    "scores"
   ]
  },
  {
   "cell_type": "code",
   "execution_count": 37,
   "id": "ad1b2a05",
   "metadata": {},
   "outputs": [],
   "source": [
    "ranking = np.argsort(scores, axis=1)[:, -10:]"
   ]
  },
  {
   "cell_type": "code",
   "execution_count": 38,
   "id": "3fc73bdb",
   "metadata": {},
   "outputs": [],
   "source": [
    "ranking = ranking[:, ::-1]"
   ]
  },
  {
   "cell_type": "code",
   "execution_count": null,
   "id": "e415d1da",
   "metadata": {},
   "outputs": [],
   "source": [
    "df.apply()"
   ]
  },
  {
   "cell_type": "code",
   "execution_count": 43,
   "id": "d156769a",
   "metadata": {},
   "outputs": [
    {
     "data": {
      "text/plain": [
       "[18393354,\n",
       " 49059730,\n",
       " 9357,\n",
       " 21935551,\n",
       " 881333052483713671,\n",
       " 9474607,\n",
       " 2695372,\n",
       " 50335735,\n",
       " 5110541,\n",
       " 850380530005995874]"
      ]
     },
     "execution_count": 43,
     "metadata": {},
     "output_type": "execute_result"
    }
   ],
   "source": [
    "df.iloc[ranking[0]].id.tolist()"
   ]
  },
  {
   "cell_type": "code",
   "execution_count": 81,
   "id": "af7e3ec9",
   "metadata": {},
   "outputs": [],
   "source": [
    "df['embedding'] = df.apply(lambda row: pickle.dumps(embeddings[row.name].tolist()), axis=1)"
   ]
  },
  {
   "cell_type": "code",
   "execution_count": 79,
   "id": "1b7c5664",
   "metadata": {},
   "outputs": [],
   "source": [
    "df['similar_listings'] = df.apply(lambda row: pickle.dumps(df.iloc[ranking[row.name]].id.tolist()), axis=1)"
   ]
  },
  {
   "cell_type": "code",
   "execution_count": 80,
   "id": "eb7a5f4a",
   "metadata": {},
   "outputs": [
    {
     "data": {
      "text/plain": [
       "id                                                                       16338086\n",
       "listing_url                                 https://www.airbnb.com/rooms/16338086\n",
       "room_type                                                         Entire home/apt\n",
       "neighbourhood_group_cleansed                                             Brooklyn\n",
       "neighbourhood_cleansed                                  Prospect-Lefferts Gardens\n",
       "bathrooms_text                                                             1 bath\n",
       "bedrooms                                                                        2\n",
       "beds                                                                            2\n",
       "accommodates                                                                    4\n",
       "price                                                                       180.0\n",
       "latitude                                                                 40.66122\n",
       "longitude                                                               -73.94466\n",
       "property_type                                                         Entire home\n",
       "description                     Luxury  1600 sq feet Duplex apartment with 2 b...\n",
       "neighborhood_overview           We are 15 minutes blocks from the Prospect Par...\n",
       "host_about                                                                    NaN\n",
       "embedding                       [-0.01382528431713581, 0.007430593948811293, -...\n",
       "similar_listings                b'\\x80\\x04\\x95<\\x00\\x00\\x00\\x00\\x00\\x00\\x00]\\x...\n",
       "Name: 9180, dtype: object"
      ]
     },
     "execution_count": 80,
     "metadata": {},
     "output_type": "execute_result"
    }
   ],
   "source": [
    "df[df.id.eq(16338086)].iloc[0]"
   ]
  },
  {
   "cell_type": "code",
   "execution_count": 62,
   "id": "a4640c61",
   "metadata": {},
   "outputs": [
    {
     "data": {
      "text/plain": [
       "id                                                             774131904854449024\n",
       "listing_url                       https://www.airbnb.com/rooms/774131904854449024\n",
       "room_type                                                         Entire home/apt\n",
       "neighbourhood_group_cleansed                                             Brooklyn\n",
       "neighbourhood_cleansed                                              Crown Heights\n",
       "bathrooms_text                                                             1 bath\n",
       "bedrooms                                                                        2\n",
       "beds                                                                            2\n",
       "accommodates                                                                    4\n",
       "price                                                                       140.0\n",
       "latitude                                                                 40.67241\n",
       "longitude                                                               -73.96142\n",
       "property_type                                                  Entire rental unit\n",
       "description                     Kid and Pet Friendly!  This is a recently reno...\n",
       "neighborhood_overview                                                         NaN\n",
       "host_about                                                                    NaN\n",
       "embedding                       [-0.012861116789281368, 0.013877583667635918, ...\n",
       "similar_listings                [5136, 16338086, 43685703, 806516934204839451,...\n",
       "Name: 36763, dtype: object"
      ]
     },
     "execution_count": 62,
     "metadata": {},
     "output_type": "execute_result"
    }
   ],
   "source": [
    "df[df.id.eq(774131904854449024)].iloc[0]"
   ]
  },
  {
   "cell_type": "code",
   "execution_count": 84,
   "id": "98225a41",
   "metadata": {},
   "outputs": [],
   "source": [
    "listings = list(df.iloc[0:50].T.to_dict().values())"
   ]
  },
  {
   "cell_type": "code",
   "execution_count": 90,
   "id": "e7d0433b",
   "metadata": {},
   "outputs": [
    {
     "data": {
      "text/plain": [
       "'id, :listing_url, :room_type, :neighbourhood_group_cleansed, :neighbourhood_cleansed, :bathrooms_text, :bedrooms, :beds, :accommodates, :price, :latitude, :longitude, :property_type, :description, :neighborhood_overview, :host_about, :embedding, :similar_listings'"
      ]
     },
     "execution_count": 90,
     "metadata": {},
     "output_type": "execute_result"
    }
   ],
   "source": [
    "\", :\".join(list(listings[0].keys()))"
   ]
  },
  {
   "cell_type": "code",
   "execution_count": null,
   "id": "a4379118",
   "metadata": {},
   "outputs": [],
   "source": []
  }
 ],
 "metadata": {
  "kernelspec": {
   "display_name": "Python 3 (ipykernel)",
   "language": "python",
   "name": "python3"
  },
  "language_info": {
   "codemirror_mode": {
    "name": "ipython",
    "version": 3
   },
   "file_extension": ".py",
   "mimetype": "text/x-python",
   "name": "python",
   "nbconvert_exporter": "python",
   "pygments_lexer": "ipython3",
   "version": "3.10.6"
  }
 },
 "nbformat": 4,
 "nbformat_minor": 5
}
