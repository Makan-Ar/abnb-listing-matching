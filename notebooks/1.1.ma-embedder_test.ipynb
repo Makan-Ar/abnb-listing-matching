{
 "cells": [
  {
   "cell_type": "code",
   "execution_count": 1,
   "id": "b6f781a1",
   "metadata": {},
   "outputs": [
    {
     "name": "stderr",
     "output_type": "stream",
     "text": [
      "/usr/local/lib/python3.10/dist-packages/tqdm/auto.py:21: TqdmWarning: IProgress not found. Please update jupyter and ipywidgets. See https://ipywidgets.readthedocs.io/en/stable/user_install.html\n",
      "  from .autonotebook import tqdm as notebook_tqdm\n"
     ]
    }
   ],
   "source": [
    "import os, sys\n",
    "from os import path\n",
    "sys.path.append(os.path.abspath(path.join(os.getcwd(), os.pardir, 'src')))\n",
    "\n",
    "import project_config as pc\n",
    "\n",
    "from data import utils as data_utils\n",
    "from models.listing_embedding import ListingEmbedder\n",
    "\n",
    "import re\n",
    "import numpy as np\n",
    "import pandas as pd"
   ]
  },
  {
   "cell_type": "code",
   "execution_count": 2,
   "id": "55d94f9d",
   "metadata": {},
   "outputs": [],
   "source": [
    "df = data_utils.load_nyc_listings()"
   ]
  },
  {
   "cell_type": "code",
   "execution_count": 3,
   "id": "a98a3bf2",
   "metadata": {},
   "outputs": [],
   "source": [
    "listing_embedder = ListingEmbedder(device='cuda:0')"
   ]
  },
  {
   "cell_type": "code",
   "execution_count": 4,
   "id": "c868a48a",
   "metadata": {},
   "outputs": [],
   "source": [
    "# embeddings = listing_embedder.from_dataframe(df[:500], 256)"
   ]
  },
  {
   "cell_type": "code",
   "execution_count": 5,
   "id": "96fa0c78",
   "metadata": {},
   "outputs": [
    {
     "ename": "NameError",
     "evalue": "name 'embeddings' is not defined",
     "output_type": "error",
     "traceback": [
      "\u001b[0;31m---------------------------------------------------------------------------\u001b[0m",
      "\u001b[0;31mNameError\u001b[0m                                 Traceback (most recent call last)",
      "Cell \u001b[0;32mIn[5], line 1\u001b[0m\n\u001b[0;32m----> 1\u001b[0m \u001b[43membeddings\u001b[49m\u001b[38;5;241m.\u001b[39mshape\n",
      "\u001b[0;31mNameError\u001b[0m: name 'embeddings' is not defined"
     ]
    }
   ],
   "source": [
    "embeddings.shape"
   ]
  },
  {
   "cell_type": "code",
   "execution_count": 4,
   "id": "cd7adef4",
   "metadata": {},
   "outputs": [],
   "source": [
    "a = df[df.bedrooms.eq(0)]"
   ]
  },
  {
   "cell_type": "code",
   "execution_count": 4,
   "id": "91dee4a2",
   "metadata": {},
   "outputs": [],
   "source": [
    "def wrapper(row):\n",
    "    return ListingEmbedder.construct_info_summary(\n",
    "                room_type=row.room_type,\n",
    "                neighbourhood_group_cleansed=row.neighbourhood_group_cleansed,\n",
    "                price=row.price,\n",
    "                bedrooms=None if pd.isna(row.bedrooms) else row.bedrooms,\n",
    "                beds=None if pd.isna(row.beds) else row.beds,\n",
    "                bathrooms_text=None if pd.isna(row.bathrooms_text) else row.bathrooms_text,\n",
    "                accommodates=None if pd.isna(row.accommodates) else row.accommodates,\n",
    "            )"
   ]
  },
  {
   "cell_type": "code",
   "execution_count": 5,
   "id": "290a40a0",
   "metadata": {},
   "outputs": [
    {
     "data": {
      "text/plain": [
       "'Entire home/apt in Brooklyn. 1 bedroom with 4 beds and 1 bath. Accommodates up to 4 people. Costs $105.00 per night'"
      ]
     },
     "execution_count": 5,
     "metadata": {},
     "output_type": "execute_result"
    }
   ],
   "source": [
    "wrapper(df.iloc[512])"
   ]
  },
  {
   "cell_type": "code",
   "execution_count": 6,
   "id": "8671d720",
   "metadata": {},
   "outputs": [
    {
     "data": {
      "text/plain": [
       "id                                                                         433914\n",
       "listing_url                                   https://www.airbnb.com/rooms/433914\n",
       "room_type                                                         Entire home/apt\n",
       "neighbourhood_group_cleansed                                             Brooklyn\n",
       "neighbourhood_cleansed                                              East New York\n",
       "bathrooms_text                                                             1 bath\n",
       "bedrooms                                                                        1\n",
       "beds                                                                            4\n",
       "accommodates                                                                    4\n",
       "price                                                                       105.0\n",
       "latitude                                                                40.673219\n",
       "longitude                                                              -73.881086\n",
       "property_type                                                         Entire home\n",
       "description                     Welcome to your home away from home, a true Ne...\n",
       "neighborhood_overview           The diversity of many ethnic groups coupled wi...\n",
       "host_about                      Friendly, enjoy traveling (been to 5 continent...\n",
       "Name: 512, dtype: object"
      ]
     },
     "execution_count": 6,
     "metadata": {},
     "output_type": "execute_result"
    }
   ],
   "source": [
    "df.iloc[512]"
   ]
  },
  {
   "cell_type": "code",
   "execution_count": 6,
   "id": "2054316f",
   "metadata": {},
   "outputs": [],
   "source": [
    "df = df[:500]"
   ]
  },
  {
   "cell_type": "code",
   "execution_count": 7,
   "id": "84cbb46e",
   "metadata": {},
   "outputs": [
    {
     "data": {
      "text/plain": [
       "array([[-0.01122258,  0.02900603, -0.02508146, ..., -0.02249013,\n",
       "        -0.02627785, -0.00582862],\n",
       "       [-0.01214507,  0.00815747, -0.02764041, ..., -0.0234624 ,\n",
       "        -0.01677772, -0.00846394],\n",
       "       [ 0.00322683,  0.0168884 , -0.01908308, ..., -0.01535253,\n",
       "        -0.03102859, -0.01566676],\n",
       "       ...,\n",
       "       [ 0.01111768,  0.01973216, -0.02297438, ..., -0.01283255,\n",
       "        -0.03752194, -0.00829629],\n",
       "       [-0.00906407,  0.01199439, -0.02374826, ..., -0.02403551,\n",
       "        -0.02121878, -0.00759838],\n",
       "       [-0.00164484,  0.01096731, -0.01210253, ..., -0.01920447,\n",
       "        -0.02173105, -0.01376694]], dtype=float32)"
      ]
     },
     "execution_count": 7,
     "metadata": {},
     "output_type": "execute_result"
    }
   ],
   "source": [
    "embeddings"
   ]
  },
  {
   "cell_type": "code",
   "execution_count": 9,
   "id": "373c902b",
   "metadata": {},
   "outputs": [],
   "source": [
    "scores = embeddings @ embeddings.T"
   ]
  },
  {
   "cell_type": "code",
   "execution_count": 73,
   "id": "638897b9",
   "metadata": {},
   "outputs": [
    {
     "data": {
      "text/plain": [
       "id                                                                           2595\n",
       "listing_url                                     https://www.airbnb.com/rooms/2595\n",
       "room_type                                                         Entire home/apt\n",
       "neighbourhood_group_cleansed                                            Manhattan\n",
       "neighbourhood_cleansed                                                    Midtown\n",
       "bathrooms_text                                                             1 bath\n",
       "bedrooms                                                                     <NA>\n",
       "beds                                                                            1\n",
       "accommodates                                                                    1\n",
       "price                                                                       240.0\n",
       "latitude                                                                 40.75356\n",
       "longitude                                                               -73.98559\n",
       "property_type                                                  Entire rental unit\n",
       "description                     Beautiful, spacious skylit studio in the heart...\n",
       "neighborhood_overview           Centrally located in the heart of Manhattan ju...\n",
       "host_about                      A New Yorker since 2000! My passion is creatin...\n",
       "Name: 0, dtype: object"
      ]
     },
     "execution_count": 73,
     "metadata": {},
     "output_type": "execute_result"
    }
   ],
   "source": [
    "df.iloc[0]"
   ]
  },
  {
   "cell_type": "code",
   "execution_count": 23,
   "id": "1f279b0f",
   "metadata": {},
   "outputs": [
    {
     "data": {
      "text/plain": [
       "id                                                                          82638\n",
       "listing_url                                    https://www.airbnb.com/rooms/82638\n",
       "room_type                                                         Entire home/apt\n",
       "neighbourhood_group_cleansed                                            Manhattan\n",
       "neighbourhood_cleansed                                               East Village\n",
       "bathrooms_text                                                             1 bath\n",
       "bedrooms                                                                        1\n",
       "beds                                                                            1\n",
       "accommodates                                                                    2\n",
       "price                                                                       150.0\n",
       "latitude                                                                 40.72408\n",
       "longitude                                                               -73.98154\n",
       "property_type                                                  Entire rental unit\n",
       "description                     <b>The space</b><br />If it's an authentic New...\n",
       "neighborhood_overview           The East Village is the best neighborhood in N...\n",
       "host_about                      Artist.  Adventurer.  Explorer of all things. ...\n",
       "Name: 163, dtype: object"
      ]
     },
     "execution_count": 23,
     "metadata": {},
     "output_type": "execute_result"
    }
   ],
   "source": [
    "df.iloc[163]"
   ]
  },
  {
   "cell_type": "code",
   "execution_count": 24,
   "id": "2f736d23",
   "metadata": {},
   "outputs": [
    {
     "ename": "AttributeError",
     "evalue": "'DataFrame' object has no attribute 'filters'",
     "output_type": "error",
     "traceback": [
      "\u001b[0;31m---------------------------------------------------------------------------\u001b[0m",
      "\u001b[0;31mAttributeError\u001b[0m                            Traceback (most recent call last)",
      "\u001b[0;32m/tmp/ipykernel_5783/820086617.py\u001b[0m in \u001b[0;36m?\u001b[0;34m()\u001b[0m\n\u001b[0;32m----> 1\u001b[0;31m \u001b[0mdf\u001b[0m\u001b[0;34m.\u001b[0m\u001b[0mfilters\u001b[0m\u001b[0;34m\u001b[0m\u001b[0;34m\u001b[0m\u001b[0m\n\u001b[0m",
      "\u001b[0;32m/usr/local/lib/python3.10/dist-packages/pandas/core/generic.py\u001b[0m in \u001b[0;36m?\u001b[0;34m(self, name)\u001b[0m\n\u001b[1;32m   5898\u001b[0m             \u001b[0;32mand\u001b[0m \u001b[0mname\u001b[0m \u001b[0;32mnot\u001b[0m \u001b[0;32min\u001b[0m \u001b[0mself\u001b[0m\u001b[0;34m.\u001b[0m\u001b[0m_accessors\u001b[0m\u001b[0;34m\u001b[0m\u001b[0;34m\u001b[0m\u001b[0m\n\u001b[1;32m   5899\u001b[0m             \u001b[0;32mand\u001b[0m \u001b[0mself\u001b[0m\u001b[0;34m.\u001b[0m\u001b[0m_info_axis\u001b[0m\u001b[0;34m.\u001b[0m\u001b[0m_can_hold_identifiers_and_holds_name\u001b[0m\u001b[0;34m(\u001b[0m\u001b[0mname\u001b[0m\u001b[0;34m)\u001b[0m\u001b[0;34m\u001b[0m\u001b[0;34m\u001b[0m\u001b[0m\n\u001b[1;32m   5900\u001b[0m         ):\n\u001b[1;32m   5901\u001b[0m             \u001b[0;32mreturn\u001b[0m \u001b[0mself\u001b[0m\u001b[0;34m[\u001b[0m\u001b[0mname\u001b[0m\u001b[0;34m]\u001b[0m\u001b[0;34m\u001b[0m\u001b[0;34m\u001b[0m\u001b[0m\n\u001b[0;32m-> 5902\u001b[0;31m         \u001b[0;32mreturn\u001b[0m \u001b[0mobject\u001b[0m\u001b[0;34m.\u001b[0m\u001b[0m__getattribute__\u001b[0m\u001b[0;34m(\u001b[0m\u001b[0mself\u001b[0m\u001b[0;34m,\u001b[0m \u001b[0mname\u001b[0m\u001b[0;34m)\u001b[0m\u001b[0;34m\u001b[0m\u001b[0;34m\u001b[0m\u001b[0m\n\u001b[0m",
      "\u001b[0;31mAttributeError\u001b[0m: 'DataFrame' object has no attribute 'filters'"
     ]
    }
   ],
   "source": [
    "df.filters"
   ]
  },
  {
   "cell_type": "code",
   "execution_count": 42,
   "id": "5aff0ce4",
   "metadata": {},
   "outputs": [],
   "source": [
    "def filter_by_price(df):\n",
    "    log_prices = np.log10(df.price.to_numpy())\n",
    "    return np.abs(log_prices[:, None] - log_prices) <= 0.3"
   ]
  },
  {
   "cell_type": "code",
   "execution_count": 50,
   "id": "021e5fab",
   "metadata": {},
   "outputs": [
    {
     "data": {
      "text/plain": [
       "array([[ True, False, False, ..., False,  True, False],\n",
       "       [False,  True, False, ..., False, False,  True],\n",
       "       [False, False,  True, ...,  True, False,  True],\n",
       "       ...,\n",
       "       [False, False,  True, ...,  True, False,  True],\n",
       "       [ True, False, False, ..., False,  True, False],\n",
       "       [False,  True,  True, ...,  True, False,  True]])"
      ]
     },
     "execution_count": 50,
     "metadata": {},
     "output_type": "execute_result"
    }
   ],
   "source": [
    "filter_by_price(df)"
   ]
  },
  {
   "cell_type": "code",
   "execution_count": 61,
   "id": "fa3ba440",
   "metadata": {},
   "outputs": [],
   "source": [
    "def filter_by_neighborhood(df):\n",
    "    neighbourhoods = df.neighbourhood_cleansed.to_numpy()\n",
    "    return neighbourhoods[:, None] != neighbourhoods"
   ]
  },
  {
   "cell_type": "code",
   "execution_count": 68,
   "id": "6173c9f2",
   "metadata": {},
   "outputs": [
    {
     "data": {
      "text/plain": [
       "array([[False,  True,  True, ...,  True,  True,  True],\n",
       "       [ True, False,  True, ...,  True,  True,  True],\n",
       "       [ True,  True, False, ...,  True,  True,  True],\n",
       "       ...,\n",
       "       [ True,  True,  True, ..., False,  True,  True],\n",
       "       [ True,  True,  True, ...,  True, False,  True],\n",
       "       [ True,  True,  True, ...,  True,  True, False]])"
      ]
     },
     "execution_count": 68,
     "metadata": {},
     "output_type": "execute_result"
    }
   ],
   "source": [
    "filter_by_neighborhood(df)"
   ]
  },
  {
   "cell_type": "code",
   "execution_count": 69,
   "id": "b02f0af6",
   "metadata": {},
   "outputs": [],
   "source": [
    "def filter_by_rooms(df):\n",
    "    n_berdrooms = df.bedrooms.to_numpy()\n",
    "    return n_berdrooms"
   ]
  },
  {
   "cell_type": "code",
   "execution_count": 71,
   "id": "78ca8e77",
   "metadata": {},
   "outputs": [
    {
     "data": {
      "text/plain": [
       "<NA>"
      ]
     },
     "execution_count": 71,
     "metadata": {},
     "output_type": "execute_result"
    }
   ],
   "source": [
    "filter_by_rooms(df)[0]"
   ]
  },
  {
   "cell_type": "code",
   "execution_count": null,
   "id": "4f3d17b3",
   "metadata": {},
   "outputs": [],
   "source": []
  }
 ],
 "metadata": {
  "kernelspec": {
   "display_name": "Python 3 (ipykernel)",
   "language": "python",
   "name": "python3"
  },
  "language_info": {
   "codemirror_mode": {
    "name": "ipython",
    "version": 3
   },
   "file_extension": ".py",
   "mimetype": "text/x-python",
   "name": "python",
   "nbconvert_exporter": "python",
   "pygments_lexer": "ipython3",
   "version": "3.10.6"
  }
 },
 "nbformat": 4,
 "nbformat_minor": 5
}
