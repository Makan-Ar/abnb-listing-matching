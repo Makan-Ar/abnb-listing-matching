{
 "cells": [
  {
   "cell_type": "code",
   "execution_count": 1,
   "id": "36fb7577",
   "metadata": {},
   "outputs": [
    {
     "name": "stderr",
     "output_type": "stream",
     "text": [
      "/usr/local/lib/python3.10/dist-packages/tqdm/auto.py:21: TqdmWarning: IProgress not found. Please update jupyter and ipywidgets. See https://ipywidgets.readthedocs.io/en/stable/user_install.html\n",
      "  from .autonotebook import tqdm as notebook_tqdm\n"
     ]
    }
   ],
   "source": [
    "import os, sys\n",
    "from os import path\n",
    "sys.path.append(os.path.abspath(path.join(os.getcwd(), os.pardir, 'src')))\n",
    "\n",
    "import project_config as pc\n",
    "\n",
    "from data import utils as data_utils\n",
    "from models.listing_embedding import ListingEmbedder\n",
    "\n",
    "import re\n",
    "import numpy as np\n",
    "import pandas as pd"
   ]
  },
  {
   "cell_type": "code",
   "execution_count": 2,
   "id": "dc61b253",
   "metadata": {},
   "outputs": [],
   "source": [
    "df = data_utils.load_nyc_listings()"
   ]
  },
  {
   "cell_type": "code",
   "execution_count": 3,
   "id": "9725d900",
   "metadata": {},
   "outputs": [],
   "source": [
    "listing_embedder = ListingEmbedder(device='cuda:0')"
   ]
  },
  {
   "cell_type": "code",
   "execution_count": 4,
   "id": "3201c174",
   "metadata": {},
   "outputs": [
    {
     "name": "stderr",
     "output_type": "stream",
     "text": [
      "100%|█████████████████████████████████████████| 109/109 [06:58<00:00,  3.84s/it]\n"
     ]
    }
   ],
   "source": [
    "embeddings = listing_embedder.from_dataframe(df, 400)"
   ]
  },
  {
   "cell_type": "code",
   "execution_count": 5,
   "id": "41ac0882",
   "metadata": {},
   "outputs": [
    {
     "data": {
      "text/plain": [
       "(43566, 1024)"
      ]
     },
     "execution_count": 5,
     "metadata": {},
     "output_type": "execute_result"
    }
   ],
   "source": [
    "embeddings.shape"
   ]
  },
  {
   "cell_type": "code",
   "execution_count": 6,
   "id": "1193536c",
   "metadata": {},
   "outputs": [],
   "source": [
    "a = df[df.bedrooms.eq(0)]"
   ]
  },
  {
   "cell_type": "code",
   "execution_count": 10,
   "id": "27f5020d",
   "metadata": {},
   "outputs": [
    {
     "data": {
      "text/plain": [
       "id                                                                         433914\n",
       "listing_url                                   https://www.airbnb.com/rooms/433914\n",
       "room_type                                                         Entire home/apt\n",
       "neighbourhood_group_cleansed                                             Brooklyn\n",
       "neighbourhood_cleansed                                              East New York\n",
       "bathrooms_text                                                             1 bath\n",
       "bedrooms                                                                        1\n",
       "beds                                                                            4\n",
       "accommodates                                                                    4\n",
       "price                                                                       105.0\n",
       "latitude                                                                40.673219\n",
       "longitude                                                              -73.881086\n",
       "property_type                                                         Entire home\n",
       "description                     Welcome to your home away from home, a true Ne...\n",
       "neighborhood_overview           The diversity of many ethnic groups coupled wi...\n",
       "host_about                      Friendly, enjoy traveling (been to 5 continent...\n",
       "Name: 512, dtype: object"
      ]
     },
     "execution_count": 10,
     "metadata": {},
     "output_type": "execute_result"
    }
   ],
   "source": [
    "df.iloc[512]"
   ]
  },
  {
   "cell_type": "code",
   "execution_count": 11,
   "id": "b49bb3d4",
   "metadata": {},
   "outputs": [],
   "source": [
    "df = df[:500]"
   ]
  },
  {
   "cell_type": "code",
   "execution_count": 12,
   "id": "7322102e",
   "metadata": {},
   "outputs": [
    {
     "data": {
      "text/plain": [
       "array([[-0.01053734,  0.02992929, -0.02854822, ..., -0.02058447,\n",
       "        -0.02488858, -0.00536096],\n",
       "       [-0.01013899,  0.0089483 , -0.02855307, ..., -0.02224569,\n",
       "        -0.01729184, -0.01087915],\n",
       "       [ 0.00449256,  0.01541421, -0.0204808 , ..., -0.01774506,\n",
       "        -0.02749335, -0.01489215],\n",
       "       ...,\n",
       "       [ 0.01111768,  0.01973216, -0.02297438, ..., -0.01283255,\n",
       "        -0.03752194, -0.00829629],\n",
       "       [-0.00870882,  0.01095518, -0.02508694, ..., -0.02465589,\n",
       "        -0.02248235, -0.0080701 ],\n",
       "       [-0.00099459,  0.01030623, -0.0142141 , ..., -0.02049175,\n",
       "        -0.01991566, -0.01334427]], dtype=float32)"
      ]
     },
     "execution_count": 12,
     "metadata": {},
     "output_type": "execute_result"
    }
   ],
   "source": [
    "embeddings"
   ]
  },
  {
   "cell_type": "code",
   "execution_count": 6,
   "id": "4bd4a8aa",
   "metadata": {},
   "outputs": [],
   "source": [
    "scores = embeddings @ embeddings.T"
   ]
  },
  {
   "cell_type": "code",
   "execution_count": 7,
   "id": "c1332ab6",
   "metadata": {},
   "outputs": [
    {
     "data": {
      "text/plain": [
       "0.95169115"
      ]
     },
     "execution_count": 7,
     "metadata": {},
     "output_type": "execute_result"
    }
   ],
   "source": [
    "np.mean(scores)"
   ]
  },
  {
   "cell_type": "code",
   "execution_count": 55,
   "id": "87e6514e",
   "metadata": {},
   "outputs": [
    {
     "data": {
      "text/plain": [
       "id                                                                          14991\n",
       "listing_url                                    https://www.airbnb.com/rooms/14991\n",
       "room_type                                                            Private room\n",
       "neighbourhood_group_cleansed                                            Manhattan\n",
       "neighbourhood_cleansed                                            Lower East Side\n",
       "bathrooms_text                                                             1 bath\n",
       "bedrooms                                                                        0\n",
       "beds                                                                            1\n",
       "accommodates                                                                    1\n",
       "price                                                                       120.0\n",
       "latitude                                                                 40.72207\n",
       "longitude                                                               -73.98976\n",
       "property_type                                         Private room in rental unit\n",
       "description                     Room for rent in my Manhattan apartment. The a...\n",
       "neighborhood_overview                                                         NaN\n",
       "host_about                      I am dancer, choreographer, Pilates teacher an...\n",
       "Name: 2, dtype: object"
      ]
     },
     "execution_count": 55,
     "metadata": {},
     "output_type": "execute_result"
    }
   ],
   "source": [
    "df.iloc[2]"
   ]
  },
  {
   "cell_type": "code",
   "execution_count": 56,
   "id": "2fb57e95",
   "metadata": {},
   "outputs": [
    {
     "data": {
      "text/plain": [
       "id                                                                         353317\n",
       "listing_url                                   https://www.airbnb.com/rooms/353317\n",
       "room_type                                                            Private room\n",
       "neighbourhood_group_cleansed                                            Manhattan\n",
       "neighbourhood_cleansed                                                  Chinatown\n",
       "bathrooms_text                                                     1 private bath\n",
       "bedrooms                                                                        0\n",
       "beds                                                                            1\n",
       "accommodates                                                                    2\n",
       "price                                                                       140.0\n",
       "latitude                                                                 40.71481\n",
       "longitude                                                               -73.99059\n",
       "property_type                                         Private room in rental unit\n",
       "description                     L.E.S. 1 bedroom Apt for rent on one of the be...\n",
       "neighborhood_overview                                   lower east side/chinatown\n",
       "host_about                                                          marc burrowes\n",
       "Name: 365, dtype: object"
      ]
     },
     "execution_count": 56,
     "metadata": {},
     "output_type": "execute_result"
    }
   ],
   "source": [
    "df.iloc[365]"
   ]
  },
  {
   "cell_type": "code",
   "execution_count": 14,
   "id": "6e9be950",
   "metadata": {},
   "outputs": [],
   "source": [
    "def filter_by_price(df):\n",
    "    prices = df.price.to_numpy()\n",
    "    prices[prices == 0] = 1\n",
    "    log_prices = np.log10(prices)\n",
    "    return np.abs(log_prices[:, None] - log_prices) <= 0.3"
   ]
  },
  {
   "cell_type": "code",
   "execution_count": 58,
   "id": "88fa27d0",
   "metadata": {},
   "outputs": [
    {
     "data": {
      "text/plain": [
       "array([[ True, False, False, ..., False,  True, False],\n",
       "       [False,  True, False, ..., False, False,  True],\n",
       "       [False, False,  True, ...,  True, False,  True],\n",
       "       ...,\n",
       "       [False, False,  True, ...,  True, False,  True],\n",
       "       [ True, False, False, ..., False,  True, False],\n",
       "       [False,  True,  True, ...,  True, False,  True]])"
      ]
     },
     "execution_count": 58,
     "metadata": {},
     "output_type": "execute_result"
    }
   ],
   "source": [
    "# filter_by_price(df)"
   ]
  },
  {
   "cell_type": "code",
   "execution_count": 15,
   "id": "50e9e8bf",
   "metadata": {},
   "outputs": [],
   "source": [
    "def filter_by_neighborhood(df):\n",
    "    neighbourhoods = df.neighbourhood_cleansed.to_numpy()\n",
    "    return neighbourhoods[:, None] != neighbourhoods"
   ]
  },
  {
   "cell_type": "code",
   "execution_count": 60,
   "id": "741aabbe",
   "metadata": {},
   "outputs": [
    {
     "data": {
      "text/plain": [
       "array([[False,  True,  True, ...,  True,  True,  True],\n",
       "       [ True, False,  True, ...,  True,  True,  True],\n",
       "       [ True,  True, False, ...,  True,  True,  True],\n",
       "       ...,\n",
       "       [ True,  True,  True, ..., False,  True,  True],\n",
       "       [ True,  True,  True, ...,  True, False,  True],\n",
       "       [ True,  True,  True, ...,  True,  True, False]])"
      ]
     },
     "execution_count": 60,
     "metadata": {},
     "output_type": "execute_result"
    }
   ],
   "source": [
    "# filter_by_neighborhood(df)"
   ]
  },
  {
   "cell_type": "code",
   "execution_count": 16,
   "id": "85465289",
   "metadata": {},
   "outputs": [],
   "source": [
    "def apply_heuristic_filters(scores, df):\n",
    "    scores *= filter_by_price(df)\n",
    "    scores *= filter_by_neighborhood(df)\n",
    "    scores[scores < 0.9] = 0\n",
    "    return scores"
   ]
  },
  {
   "cell_type": "code",
   "execution_count": 17,
   "id": "65f817f2",
   "metadata": {},
   "outputs": [],
   "source": [
    "scores = apply_heuristic_filters(scores, df)"
   ]
  },
  {
   "cell_type": "code",
   "execution_count": 13,
   "id": "4c43d185",
   "metadata": {},
   "outputs": [
    {
     "data": {
      "text/plain": [
       "array([[0.       , 0.       , 0.       , ..., 0.9432435, 0.       ,\n",
       "        0.       ],\n",
       "       [0.       , 0.       , 0.       , ..., 0.       , 0.9575317,\n",
       "        0.       ],\n",
       "       [0.       , 0.       , 0.       , ..., 0.       , 0.       ,\n",
       "        0.       ],\n",
       "       ...,\n",
       "       [0.9432435, 0.       , 0.       , ..., 0.       , 0.       ,\n",
       "        0.9580718],\n",
       "       [0.       , 0.9575317, 0.       , ..., 0.       , 0.       ,\n",
       "        0.       ],\n",
       "       [0.       , 0.       , 0.       , ..., 0.9580718, 0.       ,\n",
       "        0.       ]], dtype=float32)"
      ]
     },
     "execution_count": 13,
     "metadata": {},
     "output_type": "execute_result"
    }
   ],
   "source": [
    "scores"
   ]
  },
  {
   "cell_type": "code",
   "execution_count": 19,
   "id": "fa84021c",
   "metadata": {},
   "outputs": [],
   "source": [
    "ranking = np.argsort(scores, axis=1)[:, -10:]"
   ]
  },
  {
   "cell_type": "code",
   "execution_count": 20,
   "id": "99bf7ca5",
   "metadata": {},
   "outputs": [
    {
     "data": {
      "text/plain": [
       "(43566, 10)"
      ]
     },
     "execution_count": 20,
     "metadata": {},
     "output_type": "execute_result"
    }
   ],
   "source": [
    "ranking.shape"
   ]
  },
  {
   "cell_type": "code",
   "execution_count": null,
   "id": "d07ff371",
   "metadata": {},
   "outputs": [],
   "source": []
  }
 ],
 "metadata": {
  "kernelspec": {
   "display_name": "Python 3 (ipykernel)",
   "language": "python",
   "name": "python3"
  },
  "language_info": {
   "codemirror_mode": {
    "name": "ipython",
    "version": 3
   },
   "file_extension": ".py",
   "mimetype": "text/x-python",
   "name": "python",
   "nbconvert_exporter": "python",
   "pygments_lexer": "ipython3",
   "version": "3.10.6"
  }
 },
 "nbformat": 4,
 "nbformat_minor": 5
}
