{
 "cells": [
  {
   "cell_type": "code",
   "execution_count": 239,
   "id": "e7c909f7",
   "metadata": {},
   "outputs": [],
   "source": [
    "import os\n",
    "from os import path\n",
    "import sys\n",
    "sys.path.append(os.path.abspath(path.join(os.getcwd(), os.pardir)))\n",
    "\n",
    "from src import project_config as pc\n",
    "\n",
    "import pandas as pd\n",
    "\n",
    "import torch\n",
    "from transformers import AutoTokenizer, AutoModel"
   ]
  },
  {
   "cell_type": "code",
   "execution_count": 206,
   "id": "4837714a",
   "metadata": {},
   "outputs": [],
   "source": [
    "nyc_listings_file_url = 'http://data.insideairbnb.com/united-states/ny/new-york-city/2023-06-05/data/listings.csv.gz'"
   ]
  },
  {
   "cell_type": "code",
   "execution_count": 207,
   "id": "b12d45bf",
   "metadata": {},
   "outputs": [],
   "source": [
    "data_df = pd.read_csv(nyc_listings_file_url)"
   ]
  },
  {
   "cell_type": "code",
   "execution_count": 210,
   "id": "0e55f036",
   "metadata": {},
   "outputs": [],
   "source": [
    "listing_df_cols = [\n",
    "    'id',\n",
    "    'listing_url',\n",
    "    'room_type',\n",
    "    'neighbourhood_group_cleansed',\n",
    "    'neighbourhood_cleansed',\n",
    "    'bathrooms_text',\n",
    "    'bedrooms',\n",
    "    'beds',\n",
    "    'accommodates',\n",
    "    'price',\n",
    "    'review_scores_rating',\n",
    "    'number_of_reviews',\n",
    "    'latitude',\n",
    "    'longitude',\n",
    "    'property_type',\n",
    "    'description',\n",
    "    'amenities',\n",
    "    'neighborhood_overview',\n",
    "    'host_about'\n",
    "]"
   ]
  },
  {
   "cell_type": "code",
   "execution_count": 211,
   "id": "7d1ad962",
   "metadata": {},
   "outputs": [],
   "source": [
    "data_df = data_df[listing_df_cols]"
   ]
  },
  {
   "cell_type": "code",
   "execution_count": 240,
   "id": "0426fb59",
   "metadata": {},
   "outputs": [],
   "source": [
    "def construct_listing_summary(row):\n",
    "    summary = []\n",
    "    type_and_loc = f'{row.room_type} in {row.neighbourhood_cleansed}, {row.neighbourhood_group_cleansed}'\n",
    "    summary.append(type_and_loc)\n",
    "    \n",
    "    # bed and bath info\n",
    "    bed_bath = ''\n",
    "    if not pd.isna(row.bedrooms):\n",
    "        bed_bath = f'{int(row.bedrooms)} bedroom' + 's' if int(row.bedrooms) > 1 else ''\n",
    "    if not pd.isna(row.beds):\n",
    "        bed_bath += ' with ' if bed_bath != '' else ''\n",
    "        bed_bath += f'{int(row.beds)} bed' + 's' if int(row.beds) > 1 else ''\n",
    "    if not pd.isna(row.bathrooms_text):\n",
    "        bed_bath += ' and ' if bed_bath != '' else ''\n",
    "        bed_bath += row.bathrooms_text\n",
    "    summary.append(bed_bath)\n",
    "    \n",
    "    max_occupancy = ''\n",
    "    if row.accommodates > 0:\n",
    "        max_occupancy = f'Accommodates up to {row.accommodates} people' if row.accommodates > 1 else 'Accommodates 1 person'\n",
    "    summary.append(max_occupancy)\n",
    "    \n",
    "    cost = f'Costs {row.price}'\n",
    "    summary.append(cost)\n",
    "    \n",
    "    summary = [s for s in summary if s]\n",
    "    summary = '. '.join(summary)\n",
    "    \n",
    "    return summary"
   ]
  },
  {
   "cell_type": "code",
   "execution_count": 241,
   "id": "488ec05a",
   "metadata": {},
   "outputs": [],
   "source": [
    "data_df['listing_summary'] = data_df.apply(construct_listing_summary, axis=1)"
   ]
  },
  {
   "cell_type": "code",
   "execution_count": 242,
   "id": "da6a746f",
   "metadata": {},
   "outputs": [],
   "source": [
    "sentences = data_df['listing_summary'][:10].tolist()"
   ]
  },
  {
   "cell_type": "code",
   "execution_count": null,
   "id": "da0174ed",
   "metadata": {},
   "outputs": [],
   "source": []
  },
  {
   "cell_type": "code",
   "execution_count": 16,
   "id": "b5b2e3f8",
   "metadata": {},
   "outputs": [],
   "source": [
    "tokenizer = AutoTokenizer.from_pretrained('BAAI/bge-large-en', cache_dir=pc.HUGGING_FACE_CACHE_DIR)\n",
    "model = AutoModel.from_pretrained('BAAI/bge-large-en', cache_dir=pc.HUGGING_FACE_CACHE_DIR).to('cuda:0')"
   ]
  },
  {
   "cell_type": "code",
   "execution_count": 243,
   "id": "ba2bcb0c",
   "metadata": {},
   "outputs": [],
   "source": [
    "encoded_input = tokenizer(sentences, padding=True, truncation=True, return_tensors='pt').to('cuda:0')"
   ]
  },
  {
   "cell_type": "code",
   "execution_count": 245,
   "id": "36e3bb01",
   "metadata": {},
   "outputs": [],
   "source": [
    "# Compute token embeddings\n",
    "with torch.no_grad():\n",
    "    model_output = model(**encoded_input)\n",
    "    # Perform pooling. In this case, cls pooling.\n",
    "    sentence_embeddings = model_output[0][:, 0]\n",
    "# normalize embeddings\n",
    "sentence_embeddings = torch.nn.functional.normalize(sentence_embeddings, p=2, dim=1)"
   ]
  },
  {
   "cell_type": "code",
   "execution_count": 246,
   "id": "45c7381d",
   "metadata": {},
   "outputs": [
    {
     "data": {
      "text/plain": [
       "tensor([[-0.0155,  0.0272, -0.0254,  ..., -0.0198, -0.0258, -0.0017],\n",
       "        [-0.0102,  0.0116, -0.0052,  ..., -0.0225, -0.0115, -0.0201],\n",
       "        [-0.0061,  0.0171, -0.0174,  ..., -0.0038, -0.0358, -0.0078],\n",
       "        ...,\n",
       "        [-0.0231,  0.0261, -0.0121,  ..., -0.0194, -0.0168, -0.0048],\n",
       "        [-0.0103,  0.0108, -0.0225,  ..., -0.0139, -0.0405, -0.0059],\n",
       "        [-0.0078,  0.0143, -0.0260,  ...,  0.0008, -0.0183, -0.0256]],\n",
       "       device='cuda:0')"
      ]
     },
     "execution_count": 246,
     "metadata": {},
     "output_type": "execute_result"
    }
   ],
   "source": [
    "sentence_embeddings"
   ]
  },
  {
   "cell_type": "code",
   "execution_count": 247,
   "id": "d5ec012d",
   "metadata": {},
   "outputs": [],
   "source": [
    "scores = sentence_embeddings @ sentence_embeddings.T"
   ]
  },
  {
   "cell_type": "code",
   "execution_count": 248,
   "id": "f5b16f39",
   "metadata": {},
   "outputs": [
    {
     "data": {
      "text/plain": [
       "tensor([[1.0000, 0.8856, 0.9138, 0.8936, 0.9397, 0.9368, 0.9288, 0.9476, 0.9504,\n",
       "         0.8865],\n",
       "        [0.8856, 1.0000, 0.9279, 0.9025, 0.8951, 0.8978, 0.8961, 0.9009, 0.9315,\n",
       "         0.9500],\n",
       "        [0.9138, 0.9279, 1.0000, 0.8785, 0.9403, 0.9041, 0.9014, 0.9365, 0.9437,\n",
       "         0.9348],\n",
       "        [0.8936, 0.9025, 0.8785, 1.0000, 0.9200, 0.9213, 0.9017, 0.9162, 0.8717,\n",
       "         0.8961],\n",
       "        [0.9397, 0.8951, 0.9403, 0.9200, 1.0000, 0.9496, 0.9432, 0.9646, 0.9098,\n",
       "         0.8822],\n",
       "        [0.9368, 0.8978, 0.9041, 0.9213, 0.9496, 1.0000, 0.9395, 0.9391, 0.9109,\n",
       "         0.8810],\n",
       "        [0.9288, 0.8961, 0.9014, 0.9017, 0.9432, 0.9395, 1.0000, 0.9398, 0.9022,\n",
       "         0.8800],\n",
       "        [0.9476, 0.9009, 0.9365, 0.9162, 0.9646, 0.9391, 0.9398, 1.0000, 0.9149,\n",
       "         0.8911],\n",
       "        [0.9504, 0.9315, 0.9437, 0.8717, 0.9098, 0.9109, 0.9022, 0.9149, 1.0000,\n",
       "         0.9261],\n",
       "        [0.8865, 0.9500, 0.9348, 0.8961, 0.8822, 0.8810, 0.8800, 0.8911, 0.9261,\n",
       "         1.0000]], device='cuda:0')"
      ]
     },
     "execution_count": 248,
     "metadata": {},
     "output_type": "execute_result"
    }
   ],
   "source": [
    "scores"
   ]
  },
  {
   "cell_type": "code",
   "execution_count": 111,
   "id": "7a76c3d8",
   "metadata": {},
   "outputs": [
    {
     "data": {
      "text/plain": [
       "tensor([[1.0000, 0.9386, 0.9247, 0.9153, 0.9690],\n",
       "        [0.9386, 1.0000, 0.9496, 0.9497, 0.9274],\n",
       "        [0.9247, 0.9496, 1.0000, 0.9280, 0.8994],\n",
       "        [0.9153, 0.9497, 0.9280, 1.0000, 0.9204],\n",
       "        [0.9690, 0.9274, 0.8994, 0.9204, 1.0000]], device='cuda:0')"
      ]
     },
     "execution_count": 111,
     "metadata": {},
     "output_type": "execute_result"
    }
   ],
   "source": [
    "scores"
   ]
  },
  {
   "cell_type": "code",
   "execution_count": 249,
   "id": "6d1e66dc",
   "metadata": {},
   "outputs": [
    {
     "data": {
      "text/plain": [
       "['Entire home/apt in Midtown, Manhattan. 1 bath. Accommodates 1 person. Costs $240.00',\n",
       " 'Private room in Bedford-Stuyvesant, Brooklyn. Accommodates up to 2 people. Costs $60.00',\n",
       " 'Private room in Lower East Side, Manhattan. 1 bath. Accommodates 1 person. Costs $120.00',\n",
       " 'Entire home/apt in Sunset Park, Brooklyn. 2 bedrooms with 2 beds and 1.5 baths. Accommodates up to 4 people. Costs $276.00',\n",
       " 'Entire home/apt in Lower East Side, Manhattan. 2 beds and 1 bath. Accommodates up to 3 people. Costs $315.00',\n",
       " 'Entire home/apt in Chinatown, Manhattan. 2 bedrooms with 2 beds and 1 bath. Accommodates up to 5 people. Costs $325.00',\n",
       " 'Entire home/apt in Tribeca, Manhattan. 3 bedrooms with 3 beds and 1 bath. Accommodates up to 6 people. Costs $500.00',\n",
       " 'Entire home/apt in East Village, Manhattan. 1 bath. Accommodates up to 2 people. Costs $160.00',\n",
       " 'Private room in Midtown, Manhattan. 1 bath. Accommodates up to 2 people. Costs $68.00',\n",
       " 'Private room in Williamsburg, Brooklyn. 1 shared bath. Accommodates 1 person. Costs $91.00']"
      ]
     },
     "execution_count": 249,
     "metadata": {},
     "output_type": "execute_result"
    }
   ],
   "source": [
    "sentences"
   ]
  },
  {
   "cell_type": "code",
   "execution_count": 31,
   "id": "6ff73e0d",
   "metadata": {},
   "outputs": [
    {
     "name": "stdout",
     "output_type": "stream",
     "text": [
      "1000\n",
      "Beautiful, spacious skylit studio in the heart of Midtown, Manhattan. <br /><br />1 BED / FULL BATH / FULL KITCHEN / CENTRALLY LOCATED / HIGH SPEED WIFI<br /><br /><b>The space</b><br />- Spacious, immaculate and nicely furnished & designed studio.<br />- Tuck yourself into the ultra comfortable bed.<br />- Stunning architectural details, soaring high vaulted ceilings, exposed brick, floor seating area with natural zafu cushions, modern style mixed with eclectic art & antique treasures, large full bath, newly renovated kitchen, air conditioning/heat, high speed WiFi Internet, ergonomic office desk and chair, Roku.<br />- Centrally located in the heart of Midtown Manhattan just a few blocks from all subway connections in the very desirable Midtown location a few minutes walk to Times Square, the Theater District, Bryant Park and Herald Square.<br />- This is a walk-up building (no elevator).<br />- Laundry pickup and delivery service available.<br />- Parking garage on the block and fre\n",
      "1000\n",
      "One room available for rent in a 2 bedroom apt in Bklyn. We share a common space with kitchen. I am an artist(painter, filmmaker) and curator who is working in the film industry while I'm building my art event production businesses.<br /><br /><b>The space</b><br />HELLO EVERYONE AND THANKS FOR VISITING BLISS ART SPACE! <br /><br />Thank you all for your support. I've traveled a lot in the last year few years, to the  U.K. Germany, Italy and France! Loved Paris, Berlin and Calabria! Highly recommend all these places. <br /><br /><br />One room available for rent in a 2 bedroom apt in Bklyn. We share a common space with kitchen. I am an artist(painter, filmmaker) and curator who is working in the film industry while I'm building my art event production businesses.<br /><br />Monthly rates for longer terms stays are available on request per month for one person. At the moment the rate is 900$ but it will go up in the Summer, as my rent has also increased. Utilities, and wifi not included\n",
      "1000\n",
      "Room for rent in my Manhattan apartment. The area is beautiful. It's the Lower East Side, a very nice neighborhood with lots of places to eat and hang out and it is in the heart of Manhattan.<br /><br /><b>The space</b><br />I have a room for rent in my Lower East Side (Manhattan) apartment. This is an apartment share situation. Minimum stay 5 nights. <br /> <br />The apt has two bedrooms, one is mine. The one I rent has a queen bed and a dresser. The room has two windows. The use of the kitchen and bathroom are shared with me. Location: The area is beautiful. It's the Lower East Side, a very nice neighborhood with lots of places to eat and hang out and it is in the heart of Manhattan.<br /><br />I offer clean sheets and towels at the beginning of the stay, you are welcome to laundry them during the stay. <br />I do offer a clean apartment at the beginning, during the stay it is a share like situation where everybody's help to keep it clean is highly appreciated!<br /><br />No smoking \n",
      "1000\n",
      "We welcome you to stay in our lovely 2 br duplex in South Slope/Greenwood, Brooklyn.  Our home is a truly spacious respite from the busy city- close to subways, restaurants, cafes and parks.  Enjoy a gourmet kitchen, patio, grill, backyard!<br /><br /><b>The space</b><br />Sleeps 4 comfortably- king bed in master bedroom, 2 twin bunk beds in 2nd br.  We have a third bedroom that will be locked for storage. <br />We are located just steps from 5th Ave. restaurants, bars, coffeeshops, and shopping + 3 blocks from the R train, 15 min walk to Prospect Park.<br />Lower Manhattan is  a 15-20 min subway ride away.  Midtown/theater district 30-40 min subway<br /><br />Note:  This is our home, we live here with our two children and leave the condo clean.  We have a lot of belongings, which will will remain in our house, and stowed away in closets / on shelves.  We will set aside room in closets and dressers for your use.<br /><br /><b>Guest access</b><br />Entire duplex apt is free to use, exce\n"
     ]
    }
   ],
   "source": [
    "for s in a:\n",
    "    print(len(s))\n",
    "    print(s)"
   ]
  },
  {
   "cell_type": "code",
   "execution_count": null,
   "id": "21765d8e",
   "metadata": {},
   "outputs": [],
   "source": []
  }
 ],
 "metadata": {
  "kernelspec": {
   "display_name": "Python 3 (ipykernel)",
   "language": "python",
   "name": "python3"
  },
  "language_info": {
   "codemirror_mode": {
    "name": "ipython",
    "version": 3
   },
   "file_extension": ".py",
   "mimetype": "text/x-python",
   "name": "python",
   "nbconvert_exporter": "python",
   "pygments_lexer": "ipython3",
   "version": "3.10.6"
  }
 },
 "nbformat": 4,
 "nbformat_minor": 5
}
