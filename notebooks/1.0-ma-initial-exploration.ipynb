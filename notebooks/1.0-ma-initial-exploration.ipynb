{
 "cells": [
  {
   "cell_type": "code",
   "execution_count": 348,
   "id": "c491c5d6",
   "metadata": {},
   "outputs": [],
   "source": [
    "import os\n",
    "from os import path\n",
    "import sys\n",
    "sys.path.append(os.path.abspath(path.join(os.getcwd(), os.pardir)))\n",
    "\n",
    "from src import project_config as pc\n",
    "\n",
    "import re\n",
    "import numpy as np\n",
    "import pandas as pd\n",
    "\n",
    "import torch\n",
    "from transformers import AutoTokenizer, AutoModel"
   ]
  },
  {
   "cell_type": "code",
   "execution_count": 206,
   "id": "ddd9b9eb",
   "metadata": {},
   "outputs": [],
   "source": [
    "nyc_listings_file_url = 'http://data.insideairbnb.com/united-states/ny/new-york-city/2023-06-05/data/listings.csv.gz'"
   ]
  },
  {
   "cell_type": "code",
   "execution_count": 207,
   "id": "1aa07a5e",
   "metadata": {},
   "outputs": [],
   "source": [
    "data_df = pd.read_csv(nyc_listings_file_url)"
   ]
  },
  {
   "cell_type": "code",
   "execution_count": 210,
   "id": "cf0f1005",
   "metadata": {},
   "outputs": [],
   "source": [
    "listing_df_cols = [\n",
    "    'id',\n",
    "    'listing_url',\n",
    "    'room_type',\n",
    "    'neighbourhood_group_cleansed',\n",
    "    'neighbourhood_cleansed',\n",
    "    'bathrooms_text',\n",
    "    'bedrooms',\n",
    "    'beds',\n",
    "    'accommodates',\n",
    "    'price',\n",
    "    'review_scores_rating',\n",
    "    'number_of_reviews',\n",
    "    'latitude',\n",
    "    'longitude',\n",
    "    'property_type',\n",
    "    'description',\n",
    "    'amenities',\n",
    "    'neighborhood_overview',\n",
    "    'host_about'\n",
    "]"
   ]
  },
  {
   "cell_type": "code",
   "execution_count": 211,
   "id": "623b54e3",
   "metadata": {},
   "outputs": [],
   "source": [
    "data_df = data_df[listing_df_cols]"
   ]
  },
  {
   "cell_type": "code",
   "execution_count": 253,
   "id": "11813e56",
   "metadata": {},
   "outputs": [],
   "source": [
    "def construct_listing_summary(row):\n",
    "    summary = []\n",
    "    type_and_loc = f'{row.room_type} in {row.neighbourhood_group_cleansed}'\n",
    "    summary.append(type_and_loc)\n",
    "    \n",
    "    # bed and bath info\n",
    "    bed_bath = ''\n",
    "    if not pd.isna(row.bedrooms):\n",
    "        bed_bath = f'{int(row.bedrooms)} bedroom' + 's' if int(row.bedrooms) > 1 else ''\n",
    "    if not pd.isna(row.beds):\n",
    "        bed_bath += ' with ' if bed_bath != '' else ''\n",
    "        bed_bath += f'{int(row.beds)} bed' + 's' if int(row.beds) > 1 else ''\n",
    "    if not pd.isna(row.bathrooms_text):\n",
    "        bed_bath += ' and ' if bed_bath != '' else ''\n",
    "        bed_bath += row.bathrooms_text\n",
    "    summary.append(bed_bath)\n",
    "    \n",
    "    max_occupancy = ''\n",
    "    if row.accommodates > 0:\n",
    "        max_occupancy = f'Accommodates up to {row.accommodates} people' if row.accommodates > 1 else 'Accommodates 1 person'\n",
    "    summary.append(max_occupancy)\n",
    "    \n",
    "    cost = f'Costs {row.price}'\n",
    "    summary.append(cost)\n",
    "    \n",
    "    summary = [s for s in summary if s]\n",
    "    summary = '. '.join(summary)\n",
    "    return summary"
   ]
  },
  {
   "cell_type": "code",
   "execution_count": 373,
   "id": "bd18ac21",
   "metadata": {},
   "outputs": [
    {
     "data": {
      "text/plain": [
       "0       -73.985590\n",
       "1       -73.955120\n",
       "2       -73.989760\n",
       "3       -73.994540\n",
       "4       -73.993668\n",
       "           ...    \n",
       "43561   -73.924019\n",
       "43562   -73.976717\n",
       "43563   -73.920519\n",
       "43564   -73.951268\n",
       "43565   -73.999289\n",
       "Name: longitude, Length: 43566, dtype: float64"
      ]
     },
     "execution_count": 373,
     "metadata": {},
     "output_type": "execute_result"
    }
   ],
   "source": [
    "data_df.longitude"
   ]
  },
  {
   "cell_type": "code",
   "execution_count": 254,
   "id": "76f0ce72",
   "metadata": {},
   "outputs": [],
   "source": [
    "data_df['listing_summary'] = data_df.apply(construct_listing_summary, axis=1)"
   ]
  },
  {
   "cell_type": "code",
   "execution_count": null,
   "id": "974e860c",
   "metadata": {},
   "outputs": [],
   "source": [
    "listing_df_cols = [\n",
    "    'id',\n",
    "    'listing_url',\n",
    "    'room_type',\n",
    "    'neighbourhood_group_cleansed',\n",
    "    'neighbourhood_cleansed',\n",
    "    'bathrooms_text',\n",
    "    'bedrooms',\n",
    "    'beds',\n",
    "    'accommodates',\n",
    "    'price',\n",
    "    'review_scores_rating',\n",
    "    'number_of_reviews',\n",
    "    'latitude',\n",
    "    'longitude',\n",
    "    'property_type',\n",
    "    'description',\n",
    "    'amenities',\n",
    "    'neighborhood_overview',\n",
    "    'host_about'\n",
    "]"
   ]
  },
  {
   "cell_type": "code",
   "execution_count": 392,
   "id": "37bfaf16",
   "metadata": {},
   "outputs": [
    {
     "data": {
      "text/plain": [
       "['Dedicated workspace',\n",
       " ' Baking sheet',\n",
       " ' Extra pillows and blankets',\n",
       " ' Cleaning available during stay',\n",
       " ' Essentials',\n",
       " ' Hair dryer',\n",
       " ' Free street parking',\n",
       " ' TV',\n",
       " ' Air conditioning',\n",
       " ' Long term stays allowed',\n",
       " ' Refrigerator',\n",
       " ' Keypad',\n",
       " ' Heating',\n",
       " ' Ethernet connection',\n",
       " ' Paid parking off premises',\n",
       " ' Stove',\n",
       " ' Bed linens',\n",
       " ' Bathtub',\n",
       " ' Iron',\n",
       " ' Dishes and silverware',\n",
       " ' Self check-in',\n",
       " ' Smoke alarm',\n",
       " ' Fire extinguisher',\n",
       " ' Wifi',\n",
       " ' Cooking basics',\n",
       " ' Hangers',\n",
       " ' Kitchen',\n",
       " ' Oven',\n",
       " ' Carbon monoxide alarm',\n",
       " ' Luggage dropoff allowed',\n",
       " ' Coffee maker',\n",
       " ' Hot water']"
      ]
     },
     "execution_count": 392,
     "metadata": {},
     "output_type": "execute_result"
    }
   ],
   "source": [
    "data_df.amenities[0]"
   ]
  },
  {
   "cell_type": "code",
   "execution_count": 390,
   "id": "a0e60d13",
   "metadata": {},
   "outputs": [
    {
     "data": {
      "text/plain": [
       "0        [Dedicated workspace,  Baking sheet,  Extra pi...\n",
       "1            [Kitchen,  Heating,  Air conditioning,  Wifi]\n",
       "2        [Air conditioning,  Refrigerator,  Elevator,  ...\n",
       "3        [Private patio or balcony,  Air conditioning, ...\n",
       "4        [Dedicated workspace,  Conditioner,  Baking sh...\n",
       "                               ...                        \n",
       "43561    [Dedicated workspace,  Cleaning products,  Hai...\n",
       "43562    [Dedicated workspace,  TV with standard cable,...\n",
       "43563    [Dedicated workspace,  Cleaning products,  Hai...\n",
       "43564    [First aid kit,  Dedicated workspace,  Air con...\n",
       "43565    [Air conditioning,  Kitchen,  Piano,  Pool tab...\n",
       "Name: amenities, Length: 43566, dtype: object"
      ]
     },
     "execution_count": 390,
     "metadata": {},
     "output_type": "execute_result"
    }
   ],
   "source": [
    "data_df.amenities.str.replace('\\[|\\]', '', regex=True).str.replace('\"', '', regex=False).str.split(',')"
   ]
  },
  {
   "cell_type": "code",
   "execution_count": 331,
   "id": "8ba268f4",
   "metadata": {},
   "outputs": [],
   "source": [
    "def construct_description_summary(row):\n",
    "    summary = []\n",
    "    \n",
    "    def clean_html(txt):\n",
    "        return re.sub('<.*?>', '', txt)\n",
    "    \n",
    "    property_type = f'This is a{\"n\" if row.property_type[0].lower() in [\"a\", \"e\", \"i\", \"o\", \"u\"] else \"\"} '\n",
    "    property_type += row.property_type.lower()\n",
    "    summary.append(property_type)\n",
    "    \n",
    "    if not pd.isna(row.description):\n",
    "        summary.append(clean_html(row.description))\n",
    "    \n",
    "    if not pd.isna(row.amenities):\n",
    "        amenities = 'Amenities include: ' + re.sub('\"', '', row.amenities[1:-1]).lower()\n",
    "        summary.append(amenities)\n",
    "    \n",
    "    if not pd.isna(row.neighborhood_overview):\n",
    "        neigh_overview = 'A little about the neighborhood. ' + clean_html(row.neighborhood_overview)\n",
    "        summary.append(neigh_overview)\n",
    "    \n",
    "    if not pd.isna(row.host_about):\n",
    "        host_info = 'Host information: ' + clean_html(row.host_about)\n",
    "        summary.append(host_info)\n",
    "    \n",
    "    summary = [s for s in summary if s]\n",
    "    summary = '. '.join(summary)\n",
    "    \n",
    "    # remove extra spaces\n",
    "    summary = summary.strip()\n",
    "    summary = re.sub('\\s+', ' ', summary)\n",
    "        \n",
    "    return summary"
   ]
  },
  {
   "cell_type": "code",
   "execution_count": 341,
   "id": "19dd0daf",
   "metadata": {},
   "outputs": [
    {
     "data": {
      "text/plain": [
       "\"This is a private room in rental unit. A home away from home. Its a very cute and charming.full size bed (sheets and towels included). VERY CLEAN You are welcome to use the kitchen to prepare light meals, coffee, tea. That said at the moment I don't have a dinning table. Just one chair in the kitchen but you have a desk in your room.*Not ideal to work from home. It is a small apartment.Amazing stores, restaurants and cafes. 2 blocks away from Domino park and to the Williamsburg bridge.The spaceBest location in Williamsburg - Brooklyn, first stop on the L, J,Z.M 10 to 15 min walk.Close to Bedford av. The apartment is overall a welcoming space. Small and charming.No ideal if you are planing to work from home.You will get a private room, my room is at the oposite end. Be ready to go up 4 floors. A good way to keep your legs in shape ;)*No smoking and no pets.*1 month stay Max.During your stayFor. Amenities include: first aid kit, air conditioning, lockbox, lock on bedroom door, refrigerator, heating, dishes and silverware, essentials, self check-in, carbon monoxide alarm, hot water, stove, bed linens, clothing storage: closet, wifi. A little about the neighborhood. Williamsburg is one of the best places to be n Brooklyn. Amazing shops and restaurant. Just 10 to 15 min on the train to Manhattan. Some days you don't even have to leave the neighborhood, It is a great place to live and hangout.. Host information: I am from Colombia. Love to travel, a good meal, a beautiful home. I love to have a balanced life. I do love quality food, meditation and nature. of course to move my body, after all i am an Pilates instructor ;)\""
      ]
     },
     "execution_count": 341,
     "metadata": {},
     "output_type": "execute_result"
    }
   ],
   "source": [
    "construct_description_summary(data_df.iloc[9])"
   ]
  },
  {
   "cell_type": "code",
   "execution_count": 333,
   "id": "9852beba",
   "metadata": {},
   "outputs": [],
   "source": [
    "data_df['listing_desc_summary'] = data_df.apply(construct_description_summary, axis=1)"
   ]
  },
  {
   "cell_type": "code",
   "execution_count": 336,
   "id": "aa45fc41",
   "metadata": {},
   "outputs": [],
   "source": [
    "desc_sum = data_df['listing_desc_summary'][:10].tolist()"
   ]
  },
  {
   "cell_type": "code",
   "execution_count": 16,
   "id": "2ef6e9f2",
   "metadata": {},
   "outputs": [],
   "source": [
    "tokenizer = AutoTokenizer.from_pretrained('BAAI/bge-large-en', cache_dir=pc.HUGGING_FACE_CACHE_DIR)\n",
    "model = AutoModel.from_pretrained('BAAI/bge-large-en', cache_dir=pc.HUGGING_FACE_CACHE_DIR).to('cuda:0')"
   ]
  },
  {
   "cell_type": "code",
   "execution_count": 337,
   "id": "b10dda0f",
   "metadata": {},
   "outputs": [],
   "source": [
    "encoded_input = tokenizer(desc_sum, padding=True, truncation=True, return_tensors='pt').to('cuda:0')"
   ]
  },
  {
   "cell_type": "code",
   "execution_count": 342,
   "id": "d0c3bd0b",
   "metadata": {},
   "outputs": [],
   "source": [
    "# Compute token embeddings\n",
    "with torch.no_grad():\n",
    "    model_output = model(**encoded_input)\n",
    "    # Perform pooling. In this case, cls pooling.\n",
    "    sentence_embeddings = model_output[0][:, 0]\n",
    "# normalize embeddings\n",
    "sentence_embeddings = torch.nn.functional.normalize(sentence_embeddings, p=2, dim=1)"
   ]
  },
  {
   "cell_type": "code",
   "execution_count": 343,
   "id": "27612112",
   "metadata": {},
   "outputs": [
    {
     "data": {
      "text/plain": [
       "tensor([[-0.0143,  0.0252, -0.0238,  ..., -0.0229, -0.0350,  0.0010],\n",
       "        [-0.0103,  0.0041, -0.0284,  ..., -0.0239, -0.0185, -0.0005],\n",
       "        [ 0.0092,  0.0124, -0.0172,  ..., -0.0192, -0.0307, -0.0084],\n",
       "        ...,\n",
       "        [-0.0148,  0.0192, -0.0074,  ..., -0.0196, -0.0092, -0.0138],\n",
       "        [ 0.0047,  0.0160, -0.0228,  ..., -0.0194, -0.0316, -0.0067],\n",
       "        [-0.0035, -0.0108, -0.0283,  ..., -0.0174, -0.0123, -0.0269]],\n",
       "       device='cuda:0')"
      ]
     },
     "execution_count": 343,
     "metadata": {},
     "output_type": "execute_result"
    }
   ],
   "source": [
    "sentence_embeddings"
   ]
  },
  {
   "cell_type": "code",
   "execution_count": 344,
   "id": "5975ae13",
   "metadata": {},
   "outputs": [],
   "source": [
    "scores = sentence_embeddings @ sentence_embeddings.T"
   ]
  },
  {
   "cell_type": "code",
   "execution_count": 345,
   "id": "a4fdd01c",
   "metadata": {},
   "outputs": [
    {
     "data": {
      "text/plain": [
       "tensor([[1.0000, 0.8784, 0.8867, 0.9048, 0.8997, 0.9015, 0.9033, 0.8862, 0.8779,\n",
       "         0.8925],\n",
       "        [0.8784, 1.0000, 0.8880, 0.9060, 0.8945, 0.9106, 0.8963, 0.8675, 0.8489,\n",
       "         0.9017],\n",
       "        [0.8867, 0.8880, 1.0000, 0.8905, 0.8909, 0.9096, 0.8959, 0.8790, 0.8856,\n",
       "         0.8894],\n",
       "        [0.9048, 0.9060, 0.8905, 1.0000, 0.9337, 0.9448, 0.9342, 0.8874, 0.8587,\n",
       "         0.9398],\n",
       "        [0.8997, 0.8945, 0.8909, 0.9337, 1.0000, 0.9499, 0.9383, 0.8854, 0.8658,\n",
       "         0.9200],\n",
       "        [0.9015, 0.9106, 0.9096, 0.9448, 0.9499, 1.0000, 0.9437, 0.9087, 0.8771,\n",
       "         0.9345],\n",
       "        [0.9033, 0.8963, 0.8959, 0.9342, 0.9383, 0.9437, 1.0000, 0.8974, 0.8556,\n",
       "         0.9253],\n",
       "        [0.8862, 0.8675, 0.8790, 0.8874, 0.8854, 0.9087, 0.8974, 1.0000, 0.8529,\n",
       "         0.8762],\n",
       "        [0.8779, 0.8489, 0.8856, 0.8587, 0.8658, 0.8771, 0.8556, 0.8529, 1.0000,\n",
       "         0.8630],\n",
       "        [0.8925, 0.9017, 0.8894, 0.9398, 0.9200, 0.9345, 0.9253, 0.8762, 0.8630,\n",
       "         1.0000]], device='cuda:0')"
      ]
     },
     "execution_count": 345,
     "metadata": {},
     "output_type": "execute_result"
    }
   ],
   "source": [
    "scores"
   ]
  },
  {
   "cell_type": "code",
   "execution_count": null,
   "id": "f68bf08f",
   "metadata": {},
   "outputs": [],
   "source": [
    "'id',\n",
    "'listing_url',\n",
    "'room_type',\n",
    "'neighbourhood_group_cleansed',\n",
    "'neighbourhood_cleansed',\n",
    "'bathrooms_text',\n",
    "'bedrooms',\n",
    "'beds',\n",
    "'accommodates',\n",
    "'price',\n",
    "'review_scores_rating',\n",
    "'number_of_reviews',\n",
    "'latitude',\n",
    "'longitude',\n",
    "'property_type',\n",
    "'description',\n",
    "'amenities',\n",
    "'neighborhood_overview',\n",
    "'host_about'"
   ]
  },
  {
   "cell_type": "code",
   "execution_count": null,
   "id": "1e3a939d",
   "metadata": {},
   "outputs": [],
   "source": [
    "# Exlude same neighborhood\n",
    "# bedrooms not the same\n",
    "# accomodates \n",
    "# price "
   ]
  },
  {
   "cell_type": "code",
   "execution_count": 362,
   "id": "8fd45546",
   "metadata": {},
   "outputs": [
    {
     "data": {
      "text/plain": [
       "-0.2632414347745813"
      ]
     },
     "execution_count": 362,
     "metadata": {},
     "output_type": "execute_result"
    }
   ],
   "source": [
    "np.log10(60) - np.log10(110)"
   ]
  },
  {
   "cell_type": "code",
   "execution_count": 356,
   "id": "2be09125",
   "metadata": {},
   "outputs": [
    {
     "data": {
      "text/plain": [
       "915.8489319246112"
      ]
     },
     "execution_count": 356,
     "metadata": {},
     "output_type": "execute_result"
    }
   ],
   "source": [
    "900 + 10**1.2"
   ]
  },
  {
   "cell_type": "code",
   "execution_count": 358,
   "id": "643d8a6f",
   "metadata": {},
   "outputs": [
    {
     "data": {
      "text/plain": [
       "2.4771212547196626"
      ]
     },
     "execution_count": 358,
     "metadata": {},
     "output_type": "execute_result"
    }
   ],
   "source": [
    "np.log10(300)"
   ]
  },
  {
   "cell_type": "code",
   "execution_count": null,
   "id": "ad14997f",
   "metadata": {},
   "outputs": [],
   "source": []
  }
 ],
 "metadata": {
  "kernelspec": {
   "display_name": "Python 3 (ipykernel)",
   "language": "python",
   "name": "python3"
  },
  "language_info": {
   "codemirror_mode": {
    "name": "ipython",
    "version": 3
   },
   "file_extension": ".py",
   "mimetype": "text/x-python",
   "name": "python",
   "nbconvert_exporter": "python",
   "pygments_lexer": "ipython3",
   "version": "3.10.6"
  }
 },
 "nbformat": 4,
 "nbformat_minor": 5
}
