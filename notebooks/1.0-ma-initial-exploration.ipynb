{
 "cells": [
  {
   "cell_type": "markdown",
   "id": "45ba8f96",
   "metadata": {},
   "source": [
    "Initial Exploraiton\n",
    "===================\n",
    "\n",
    "Quick and dirty exploration of the data and potential modeling approaches.\n",
    "\n",
    "The notebook should not be used as a reference."
   ]
  },
  {
   "cell_type": "code",
   "execution_count": 34,
   "id": "dcb86595",
   "metadata": {},
   "outputs": [],
   "source": [
    "import os, sys\n",
    "from os import path\n",
    "sys.path.append(os.path.abspath(path.join(os.getcwd(), os.pardir, 'src')))\n",
    "\n",
    "import project_config as pc\n",
    "\n",
    "import re\n",
    "import numpy as np\n",
    "import pandas as pd\n",
    "\n",
    "import torch\n",
    "from transformers import AutoTokenizer, AutoModel"
   ]
  },
  {
   "cell_type": "code",
   "execution_count": 3,
   "id": "93562030",
   "metadata": {},
   "outputs": [],
   "source": [
    "nyc_listings_file_url = 'http://data.insideairbnb.com/united-states/ny/new-york-city/2023-06-05/data/listings.csv.gz'"
   ]
  },
  {
   "cell_type": "code",
   "execution_count": 4,
   "id": "16814535",
   "metadata": {},
   "outputs": [],
   "source": [
    "data_df = pd.read_csv(nyc_listings_file_url)"
   ]
  },
  {
   "cell_type": "code",
   "execution_count": 5,
   "id": "e137606a",
   "metadata": {},
   "outputs": [],
   "source": [
    "listing_df_cols = [\n",
    "    'id',\n",
    "    'listing_url',\n",
    "    'room_type',\n",
    "    'neighbourhood_group_cleansed',\n",
    "    'neighbourhood_cleansed',\n",
    "    'bathrooms_text',\n",
    "    'bedrooms',\n",
    "    'beds',\n",
    "    'accommodates',\n",
    "    'price',\n",
    "    'review_scores_rating',\n",
    "    'number_of_reviews',\n",
    "    'latitude',\n",
    "    'longitude',\n",
    "    'property_type',\n",
    "    'description',\n",
    "    'amenities',\n",
    "    'neighborhood_overview',\n",
    "    'host_about'\n",
    "]"
   ]
  },
  {
   "cell_type": "code",
   "execution_count": 6,
   "id": "028a5021",
   "metadata": {},
   "outputs": [],
   "source": [
    "data_df = data_df[listing_df_cols]"
   ]
  },
  {
   "cell_type": "code",
   "execution_count": 10,
   "id": "d05950cb",
   "metadata": {},
   "outputs": [
    {
     "data": {
      "text/plain": [
       "18365"
      ]
     },
     "execution_count": 10,
     "metadata": {},
     "output_type": "execute_result"
    }
   ],
   "source": [
    "data_df.neighborhood_overview.isna().sum()"
   ]
  },
  {
   "cell_type": "code",
   "execution_count": 12,
   "id": "72329f4c",
   "metadata": {},
   "outputs": [],
   "source": [
    "def construct_listing_summary(row):\n",
    "    summary = []\n",
    "    type_and_loc = f'{row.room_type} in {row.neighbourhood_group_cleansed}'\n",
    "    summary.append(type_and_loc)\n",
    "    \n",
    "    # bed and bath info\n",
    "    bed_bath = ''\n",
    "    if not pd.isna(row.bedrooms):\n",
    "        bed_bath = f'{int(row.bedrooms)} bedroom' + 's' if int(row.bedrooms) > 1 else ''\n",
    "    if not pd.isna(row.beds):\n",
    "        bed_bath += ' with ' if bed_bath != '' else ''\n",
    "        bed_bath += f'{int(row.beds)} bed' + 's' if int(row.beds) > 1 else ''\n",
    "    if not pd.isna(row.bathrooms_text):\n",
    "        bed_bath += ' and ' if bed_bath != '' else ''\n",
    "        bed_bath += row.bathrooms_text\n",
    "    summary.append(bed_bath)\n",
    "    \n",
    "    max_occupancy = ''\n",
    "    if row.accommodates > 0:\n",
    "        max_occupancy = f'Accommodates up to {row.accommodates} people' if row.accommodates > 1 else 'Accommodates 1 person'\n",
    "    summary.append(max_occupancy)\n",
    "    \n",
    "    cost = f'Costs {row.price}'\n",
    "    summary.append(cost)\n",
    "    \n",
    "    summary = [s for s in summary if s]\n",
    "    summary = '. '.join(summary)\n",
    "    return summary"
   ]
  },
  {
   "cell_type": "code",
   "execution_count": 13,
   "id": "2b9c1674",
   "metadata": {},
   "outputs": [],
   "source": [
    "data_df['listing_summary'] = data_df.apply(construct_listing_summary, axis=1)"
   ]
  },
  {
   "cell_type": "code",
   "execution_count": 14,
   "id": "53909a61",
   "metadata": {},
   "outputs": [],
   "source": [
    "listing_df_cols = [\n",
    "    'id',\n",
    "    'listing_url',\n",
    "    'room_type',\n",
    "    'neighbourhood_group_cleansed',\n",
    "    'neighbourhood_cleansed',\n",
    "    'bathrooms_text',\n",
    "    'bedrooms',\n",
    "    'beds',\n",
    "    'accommodates',\n",
    "    'price',\n",
    "    'review_scores_rating',\n",
    "    'number_of_reviews',\n",
    "    'latitude',\n",
    "    'longitude',\n",
    "    'property_type',\n",
    "    'description',\n",
    "    'amenities',\n",
    "    'neighborhood_overview',\n",
    "    'host_about'\n",
    "]"
   ]
  },
  {
   "cell_type": "code",
   "execution_count": 15,
   "id": "057ae116",
   "metadata": {},
   "outputs": [
    {
     "data": {
      "text/plain": [
       "'[\"Dedicated workspace\", \"Baking sheet\", \"Extra pillows and blankets\", \"Cleaning available during stay\", \"Essentials\", \"Hair dryer\", \"Free street parking\", \"TV\", \"Air conditioning\", \"Long term stays allowed\", \"Refrigerator\", \"Keypad\", \"Heating\", \"Ethernet connection\", \"Paid parking off premises\", \"Stove\", \"Bed linens\", \"Bathtub\", \"Iron\", \"Dishes and silverware\", \"Self check-in\", \"Smoke alarm\", \"Fire extinguisher\", \"Wifi\", \"Cooking basics\", \"Hangers\", \"Kitchen\", \"Oven\", \"Carbon monoxide alarm\", \"Luggage dropoff allowed\", \"Coffee maker\", \"Hot water\"]'"
      ]
     },
     "execution_count": 15,
     "metadata": {},
     "output_type": "execute_result"
    }
   ],
   "source": [
    "data_df.amenities[0]"
   ]
  },
  {
   "cell_type": "code",
   "execution_count": 33,
   "id": "807a4963",
   "metadata": {},
   "outputs": [
    {
     "data": {
      "text/plain": [
       "pandas.core.frame.DataFrame"
      ]
     },
     "execution_count": 33,
     "metadata": {},
     "output_type": "execute_result"
    }
   ],
   "source": [
    "type(data_df.iloc[0: 15])"
   ]
  },
  {
   "cell_type": "code",
   "execution_count": 16,
   "id": "1d103044",
   "metadata": {},
   "outputs": [
    {
     "data": {
      "text/plain": [
       "0        Beautiful, spacious skylit studio in the heart...\n",
       "1        One room available for rent in a 2 bedroom apt...\n",
       "2        Room for rent in my Manhattan apartment. The a...\n",
       "3        We welcome you to stay in our lovely 2 br dupl...\n",
       "4        Greetings! <br /><br />Come relax here after y...\n",
       "                               ...                        \n",
       "43561    Cozy rooms in a 4BR1BA Sunnyside townhouse.<br...\n",
       "43562    Looking for great accommodations for your New ...\n",
       "43563    This 4BR place is situated in a prime Queens l...\n",
       "43564    Take it easy at this unique and tranquil getaway.\n",
       "43565    Welcome to my oversized studio in the heart of...\n",
       "Name: description, Length: 43566, dtype: object"
      ]
     },
     "execution_count": 16,
     "metadata": {},
     "output_type": "execute_result"
    }
   ],
   "source": [
    "data_df.description"
   ]
  },
  {
   "cell_type": "code",
   "execution_count": 17,
   "id": "43099c18",
   "metadata": {},
   "outputs": [],
   "source": [
    "def construct_description_summary(row):\n",
    "    summary = []\n",
    "    \n",
    "    def clean_html(txt):\n",
    "        return re.sub('<.*?>', '', txt)\n",
    "    \n",
    "    property_type = f'This is a{\"n\" if row.property_type[0].lower() in [\"a\", \"e\", \"i\", \"o\", \"u\"] else \"\"} '\n",
    "    property_type += row.property_type.lower()\n",
    "    summary.append(property_type)\n",
    "    \n",
    "    if not pd.isna(row.description):\n",
    "        summary.append(clean_html(row.description))\n",
    "    \n",
    "    if not pd.isna(row.amenities):\n",
    "        amenities = 'Amenities include: ' + re.sub('\"', '', row.amenities[1:-1]).lower()\n",
    "        summary.append(amenities)\n",
    "    \n",
    "    if not pd.isna(row.neighborhood_overview):\n",
    "        neigh_overview = 'A little about the neighborhood. ' + clean_html(row.neighborhood_overview)\n",
    "        summary.append(neigh_overview)\n",
    "    \n",
    "    if not pd.isna(row.host_about):\n",
    "        host_info = 'Host information: ' + clean_html(row.host_about)\n",
    "        summary.append(host_info)\n",
    "    \n",
    "    summary = [s for s in summary if s]\n",
    "    summary = '. '.join(summary)\n",
    "    \n",
    "    # remove extra spaces\n",
    "    summary = summary.strip()\n",
    "    summary = re.sub('\\s+', ' ', summary)\n",
    "        \n",
    "    return summary"
   ]
  },
  {
   "cell_type": "code",
   "execution_count": 18,
   "id": "46e9de33",
   "metadata": {},
   "outputs": [
    {
     "data": {
      "text/plain": [
       "\"This is a private room in rental unit. A home away from home. Its a very cute and charming.full size bed (sheets and towels included). VERY CLEAN You are welcome to use the kitchen to prepare light meals, coffee, tea. That said at the moment I don't have a dinning table. Just one chair in the kitchen but you have a desk in your room.*Not ideal to work from home. It is a small apartment.Amazing stores, restaurants and cafes. 2 blocks away from Domino park and to the Williamsburg bridge.The spaceBest location in Williamsburg - Brooklyn, first stop on the L, J,Z.M 10 to 15 min walk.Close to Bedford av. The apartment is overall a welcoming space. Small and charming.No ideal if you are planing to work from home.You will get a private room, my room is at the oposite end. Be ready to go up 4 floors. A good way to keep your legs in shape ;)*No smoking and no pets.*1 month stay Max.During your stayFor. Amenities include: first aid kit, air conditioning, lockbox, lock on bedroom door, refrigerator, heating, dishes and silverware, essentials, self check-in, carbon monoxide alarm, hot water, stove, bed linens, clothing storage: closet, wifi. A little about the neighborhood. Williamsburg is one of the best places to be n Brooklyn. Amazing shops and restaurant. Just 10 to 15 min on the train to Manhattan. Some days you don't even have to leave the neighborhood, It is a great place to live and hangout.. Host information: I am from Colombia. Love to travel, a good meal, a beautiful home. I love to have a balanced life. I do love quality food, meditation and nature. of course to move my body, after all i am an Pilates instructor ;)\""
      ]
     },
     "execution_count": 18,
     "metadata": {},
     "output_type": "execute_result"
    }
   ],
   "source": [
    "construct_description_summary(data_df.iloc[9])"
   ]
  },
  {
   "cell_type": "code",
   "execution_count": 19,
   "id": "3f148db8",
   "metadata": {},
   "outputs": [],
   "source": [
    "data_df['listing_desc_summary'] = data_df.apply(construct_description_summary, axis=1)"
   ]
  },
  {
   "cell_type": "code",
   "execution_count": 20,
   "id": "acfcfa34",
   "metadata": {},
   "outputs": [],
   "source": [
    "desc_sum = data_df['listing_summary'][220:230].tolist()"
   ]
  },
  {
   "cell_type": "code",
   "execution_count": 21,
   "id": "9fcf1e24",
   "metadata": {},
   "outputs": [],
   "source": [
    "tokenizer = AutoTokenizer.from_pretrained('BAAI/bge-large-en', cache_dir=pc.HUGGING_FACE_CACHE_DIR)\n",
    "model = AutoModel.from_pretrained('BAAI/bge-large-en', cache_dir=pc.HUGGING_FACE_CACHE_DIR).to('cuda:0')"
   ]
  },
  {
   "cell_type": "code",
   "execution_count": 22,
   "id": "2a626c4a",
   "metadata": {},
   "outputs": [],
   "source": [
    "desc_sum.append('')"
   ]
  },
  {
   "cell_type": "code",
   "execution_count": 23,
   "id": "e27b2fc3",
   "metadata": {},
   "outputs": [],
   "source": [
    "encoded_input = tokenizer(desc_sum, padding=True, truncation=True, return_tensors='pt').to('cuda:0')"
   ]
  },
  {
   "cell_type": "code",
   "execution_count": 24,
   "id": "f58b75dd",
   "metadata": {},
   "outputs": [],
   "source": [
    "# Compute token embeddings\n",
    "with torch.no_grad():\n",
    "    model_output = model(**encoded_input)\n",
    "    # Perform pooling. In this case, cls pooling.\n",
    "    sentence_embeddings = model_output[0][:, 0]\n",
    "# normalize embeddings\n",
    "# sentence_embeddings = torch.nn.functional.normalize(sentence_embeddings, p=2, dim=1)"
   ]
  },
  {
   "cell_type": "code",
   "execution_count": 25,
   "id": "28fff82a",
   "metadata": {},
   "outputs": [],
   "source": [
    "def get_cos_similarity(embeds):\n",
    "    embeds_norm = torch.nn.functional.normalize(sentence_embeddings, p=2, dim=1)\n",
    "    return embeds_norm @ embeds_norm.T"
   ]
  },
  {
   "cell_type": "code",
   "execution_count": 26,
   "id": "a76ee373",
   "metadata": {},
   "outputs": [
    {
     "data": {
      "text/plain": [
       "tensor([[1.0000, 0.9788, 0.9539, 0.9410, 0.9062, 0.8983, 0.9491, 0.9514, 0.9509,\n",
       "         0.9879, 0.7971],\n",
       "        [0.9788, 1.0000, 0.9415, 0.9426, 0.9112, 0.9117, 0.9373, 0.9493, 0.9486,\n",
       "         0.9780, 0.7962],\n",
       "        [0.9539, 0.9415, 1.0000, 0.9765, 0.9367, 0.9289, 0.9843, 0.9847, 0.9540,\n",
       "         0.9510, 0.8021],\n",
       "        [0.9410, 0.9426, 0.9765, 1.0000, 0.9335, 0.9347, 0.9645, 0.9735, 0.9464,\n",
       "         0.9421, 0.8029],\n",
       "        [0.9062, 0.9112, 0.9367, 0.9335, 1.0000, 0.9866, 0.9300, 0.9361, 0.9069,\n",
       "         0.9008, 0.7929],\n",
       "        [0.8983, 0.9117, 0.9289, 0.9347, 0.9866, 1.0000, 0.9240, 0.9306, 0.9019,\n",
       "         0.8994, 0.7824],\n",
       "        [0.9491, 0.9373, 0.9843, 0.9645, 0.9300, 0.9240, 1.0000, 0.9857, 0.9472,\n",
       "         0.9517, 0.7996],\n",
       "        [0.9514, 0.9493, 0.9847, 0.9735, 0.9361, 0.9306, 0.9857, 1.0000, 0.9510,\n",
       "         0.9550, 0.8032],\n",
       "        [0.9509, 0.9486, 0.9540, 0.9464, 0.9069, 0.9019, 0.9472, 0.9510, 1.0000,\n",
       "         0.9504, 0.7970],\n",
       "        [0.9879, 0.9780, 0.9510, 0.9421, 0.9008, 0.8994, 0.9517, 0.9550, 0.9504,\n",
       "         1.0000, 0.7974],\n",
       "        [0.7971, 0.7962, 0.8021, 0.8029, 0.7929, 0.7824, 0.7996, 0.8032, 0.7970,\n",
       "         0.7974, 1.0000]], device='cuda:0')"
      ]
     },
     "execution_count": 26,
     "metadata": {},
     "output_type": "execute_result"
    }
   ],
   "source": [
    "sim = get_cos_similarity(sentence_embeddings)\n",
    "sim"
   ]
  },
  {
   "cell_type": "code",
   "execution_count": 140,
   "id": "d6248874",
   "metadata": {},
   "outputs": [],
   "source": [
    "def get_cos_similarity_mean_subtracted(embeds):\n",
    "    avg_emb = torch.mean(embeds, axis=0)\n",
    "    embeds_norm = torch.nn.functional.normalize(embeds - avg_emb, p=2, dim=1)\n",
    "    return embeds_norm @ embeds_norm.T"
   ]
  },
  {
   "cell_type": "code",
   "execution_count": 141,
   "id": "750c5a73",
   "metadata": {},
   "outputs": [
    {
     "data": {
      "text/plain": [
       "tensor([[ 1.0000,  0.5538, -0.2448, -0.3797, -0.4956, -0.5499, -0.2503, -0.3408,\n",
       "          0.0587,  0.7413],\n",
       "        [ 0.5538,  1.0000, -0.5274, -0.2901, -0.3534, -0.2833, -0.4793, -0.3418,\n",
       "          0.0542,  0.5389],\n",
       "        [-0.2448, -0.5274,  1.0000,  0.3013, -0.1958, -0.2817,  0.5043,  0.4387,\n",
       "         -0.0745, -0.3194],\n",
       "        [-0.3797, -0.2901,  0.3013,  1.0000, -0.1123, -0.0335,  0.0464,  0.1973,\n",
       "         -0.1011, -0.3514],\n",
       "        [-0.4956, -0.3534, -0.1958, -0.1123,  1.0000,  0.8451, -0.2188, -0.2198,\n",
       "         -0.3315, -0.5805],\n",
       "        [-0.5499, -0.2833, -0.2817, -0.0335,  0.8451,  1.0000, -0.2615, -0.2599,\n",
       "         -0.3421, -0.5314],\n",
       "        [-0.2503, -0.4793,  0.5043,  0.0464, -0.2188, -0.2615,  1.0000,  0.5422,\n",
       "         -0.1321, -0.1835],\n",
       "        [-0.3408, -0.3418,  0.4387,  0.1973, -0.2198, -0.2599,  0.5422,  1.0000,\n",
       "         -0.1659, -0.2328],\n",
       "        [ 0.0587,  0.0542, -0.0745, -0.1011, -0.3315, -0.3421, -0.1321, -0.1659,\n",
       "          1.0000,  0.0515],\n",
       "        [ 0.7413,  0.5389, -0.3194, -0.3514, -0.5805, -0.5314, -0.1835, -0.2328,\n",
       "          0.0515,  1.0000]], device='cuda:0')"
      ]
     },
     "execution_count": 141,
     "metadata": {},
     "output_type": "execute_result"
    }
   ],
   "source": [
    "sim_sub = get_cos_similarity_mean_subtracted(sentence_embeddings)\n",
    "sim_sub"
   ]
  },
  {
   "cell_type": "code",
   "execution_count": 142,
   "id": "c85365a0",
   "metadata": {},
   "outputs": [
    {
     "data": {
      "text/plain": [
       "['Entire home/apt in Brooklyn. 2 bedrooms with 2 beds and 1 bath. Accommodates up to 2 people. Costs $185.00',\n",
       " 'Entire home/apt in Brooklyn. 1 bath. Accommodates up to 2 people. Costs $97.00',\n",
       " 'Entire home/apt in Manhattan. 2 bedrooms with 2 beds and 1.5 baths. Accommodates up to 4 people. Costs $550.00',\n",
       " 'Entire home/apt in Manhattan. 4 beds and 1 bath. Accommodates up to 5 people. Costs $160.00',\n",
       " 'Private room in Manhattan. 1 private bath. Accommodates up to 2 people. Costs $189.00',\n",
       " 'Private room in Manhattan. 1 private bath. Accommodates 1 person. Costs $175.00',\n",
       " 'Entire home/apt in Manhattan. 2 bedrooms with 3 beds and 1 bath. Accommodates up to 6 people. Costs $542.00',\n",
       " 'Entire home/apt in Manhattan. 2 bedrooms with  and 1 bath. Accommodates up to 3 people. Costs $110.00',\n",
       " 'Entire home/apt in Bronx. 2 beds and 1 bath. Accommodates up to 5 people. Costs $114.00',\n",
       " 'Entire home/apt in Brooklyn. 2 beds and 1 bath. Accommodates up to 3 people. Costs $225.00']"
      ]
     },
     "execution_count": 142,
     "metadata": {},
     "output_type": "execute_result"
    }
   ],
   "source": [
    "desc_sum"
   ]
  },
  {
   "cell_type": "code",
   "execution_count": 143,
   "id": "7864c562",
   "metadata": {},
   "outputs": [],
   "source": [
    "def is_order_same(sim_a, sim_b):\n",
    "    print(torch.argsort(sim_a, axis=1))\n",
    "    print(torch.argsort(sim_b, axis=1))"
   ]
  },
  {
   "cell_type": "code",
   "execution_count": 144,
   "id": "492f654d",
   "metadata": {},
   "outputs": [
    {
     "name": "stdout",
     "output_type": "stream",
     "text": [
      "tensor([[5, 4, 3, 6, 8, 7, 2, 1, 9, 0],\n",
      "        [4, 5, 6, 2, 3, 8, 7, 9, 0, 1],\n",
      "        [5, 4, 1, 9, 0, 8, 3, 6, 7, 2],\n",
      "        [4, 5, 0, 9, 1, 8, 6, 7, 2, 3],\n",
      "        [9, 0, 8, 1, 6, 3, 7, 2, 5, 4],\n",
      "        [0, 9, 8, 1, 6, 2, 7, 3, 4, 5],\n",
      "        [5, 4, 1, 8, 0, 9, 3, 2, 7, 6],\n",
      "        [5, 4, 1, 8, 0, 9, 3, 2, 6, 7],\n",
      "        [5, 4, 3, 6, 1, 9, 0, 7, 2, 8],\n",
      "        [5, 4, 3, 8, 2, 6, 7, 1, 0, 9]], device='cuda:0')\n",
      "tensor([[5, 4, 3, 7, 6, 2, 8, 1, 9, 0],\n",
      "        [2, 6, 4, 7, 3, 5, 8, 9, 0, 1],\n",
      "        [1, 9, 5, 0, 4, 8, 3, 7, 6, 2],\n",
      "        [0, 9, 1, 4, 8, 5, 6, 7, 2, 3],\n",
      "        [9, 0, 1, 8, 7, 6, 2, 3, 5, 4],\n",
      "        [0, 9, 8, 1, 2, 6, 7, 3, 4, 5],\n",
      "        [1, 5, 0, 4, 9, 8, 3, 2, 7, 6],\n",
      "        [1, 0, 5, 9, 4, 8, 3, 2, 6, 7],\n",
      "        [5, 4, 7, 6, 3, 2, 9, 1, 0, 8],\n",
      "        [4, 5, 3, 2, 7, 6, 8, 1, 0, 9]], device='cuda:0')\n"
     ]
    }
   ],
   "source": [
    "is_order_same(sim, sim_sub)"
   ]
  },
  {
   "cell_type": "code",
   "execution_count": 42,
   "id": "5fc20b08",
   "metadata": {},
   "outputs": [],
   "source": [
    "scores = norm_sentence_embeddings @ norm_sentence_embeddings.T"
   ]
  },
  {
   "cell_type": "code",
   "execution_count": 43,
   "id": "ff9a159f",
   "metadata": {},
   "outputs": [
    {
     "data": {
      "text/plain": [
       "tensor([[1.0000, 0.8784, 0.8867, 0.9048, 0.8997, 0.9015, 0.9033, 0.8862, 0.8779,\n",
       "         0.8925],\n",
       "        [0.8784, 1.0000, 0.8880, 0.9060, 0.8945, 0.9106, 0.8963, 0.8675, 0.8489,\n",
       "         0.9017],\n",
       "        [0.8867, 0.8880, 1.0000, 0.8905, 0.8909, 0.9096, 0.8959, 0.8790, 0.8856,\n",
       "         0.8894],\n",
       "        [0.9048, 0.9060, 0.8905, 1.0000, 0.9337, 0.9448, 0.9342, 0.8874, 0.8587,\n",
       "         0.9398],\n",
       "        [0.8997, 0.8945, 0.8909, 0.9337, 1.0000, 0.9499, 0.9383, 0.8854, 0.8658,\n",
       "         0.9200],\n",
       "        [0.9015, 0.9106, 0.9096, 0.9448, 0.9499, 1.0000, 0.9437, 0.9087, 0.8771,\n",
       "         0.9345],\n",
       "        [0.9033, 0.8963, 0.8959, 0.9342, 0.9383, 0.9437, 1.0000, 0.8974, 0.8556,\n",
       "         0.9253],\n",
       "        [0.8862, 0.8675, 0.8790, 0.8874, 0.8854, 0.9087, 0.8974, 1.0000, 0.8529,\n",
       "         0.8762],\n",
       "        [0.8779, 0.8489, 0.8856, 0.8587, 0.8658, 0.8771, 0.8556, 0.8529, 1.0000,\n",
       "         0.8630],\n",
       "        [0.8925, 0.9017, 0.8894, 0.9398, 0.9200, 0.9345, 0.9253, 0.8762, 0.8630,\n",
       "         1.0000]], device='cuda:0')"
      ]
     },
     "execution_count": 43,
     "metadata": {},
     "output_type": "execute_result"
    }
   ],
   "source": [
    "scores"
   ]
  },
  {
   "cell_type": "code",
   "execution_count": 44,
   "id": "a9dcfa09",
   "metadata": {},
   "outputs": [],
   "source": [
    "avg_emb = torch.mean(sentence_embeddings, axis=0)"
   ]
  },
  {
   "cell_type": "code",
   "execution_count": 45,
   "id": "fe020b8b",
   "metadata": {},
   "outputs": [
    {
     "data": {
      "text/plain": [
       "tensor([-0.0963,  0.2045, -0.4324,  ..., -0.3783, -0.3772, -0.2139],\n",
       "       device='cuda:0')"
      ]
     },
     "execution_count": 45,
     "metadata": {},
     "output_type": "execute_result"
    }
   ],
   "source": [
    "avg_emb"
   ]
  },
  {
   "cell_type": "code",
   "execution_count": 46,
   "id": "a5cd8f9c",
   "metadata": {},
   "outputs": [],
   "source": [
    "sentence_embeddings_sub = torch.nn.functional.normalize(sentence_embeddings_sub - avg_emb, p=2, dim=1)"
   ]
  },
  {
   "cell_type": "code",
   "execution_count": 47,
   "id": "e425deb2",
   "metadata": {},
   "outputs": [],
   "source": [
    "scores_sub = sentence_embeddings_sub @ sentence_embeddings_sub.T"
   ]
  },
  {
   "cell_type": "code",
   "execution_count": 48,
   "id": "efb76b8a",
   "metadata": {},
   "outputs": [
    {
     "data": {
      "text/plain": [
       "tensor([[1.0000, 0.9997, 0.9997, 0.9997, 0.9997, 0.9997, 0.9997, 0.9998, 0.9997,\n",
       "         0.9997],\n",
       "        [0.9997, 1.0000, 0.9997, 0.9997, 0.9997, 0.9998, 0.9997, 0.9997, 0.9997,\n",
       "         0.9997],\n",
       "        [0.9997, 0.9997, 1.0000, 0.9997, 0.9997, 0.9998, 0.9997, 0.9997, 0.9998,\n",
       "         0.9997],\n",
       "        [0.9997, 0.9997, 0.9997, 1.0000, 0.9998, 0.9998, 0.9998, 0.9997, 0.9997,\n",
       "         0.9998],\n",
       "        [0.9997, 0.9997, 0.9997, 0.9998, 1.0000, 0.9999, 0.9998, 0.9997, 0.9997,\n",
       "         0.9997],\n",
       "        [0.9997, 0.9998, 0.9998, 0.9998, 0.9999, 1.0000, 0.9998, 0.9998, 0.9997,\n",
       "         0.9998],\n",
       "        [0.9997, 0.9997, 0.9997, 0.9998, 0.9998, 0.9998, 1.0000, 0.9997, 0.9996,\n",
       "         0.9997],\n",
       "        [0.9998, 0.9997, 0.9997, 0.9997, 0.9997, 0.9998, 0.9997, 1.0000, 0.9997,\n",
       "         0.9997],\n",
       "        [0.9997, 0.9997, 0.9998, 0.9997, 0.9997, 0.9997, 0.9996, 0.9997, 1.0000,\n",
       "         0.9997],\n",
       "        [0.9997, 0.9997, 0.9997, 0.9998, 0.9997, 0.9998, 0.9997, 0.9997, 0.9997,\n",
       "         1.0000]], device='cuda:0')"
      ]
     },
     "execution_count": 48,
     "metadata": {},
     "output_type": "execute_result"
    }
   ],
   "source": [
    "scores_sub"
   ]
  },
  {
   "cell_type": "code",
   "execution_count": null,
   "id": "e698e46b",
   "metadata": {},
   "outputs": [],
   "source": [
    "'id',\n",
    "'listing_url',\n",
    "'room_type',\n",
    "'neighbourhood_group_cleansed',\n",
    "'neighbourhood_cleansed',\n",
    "'bathrooms_text',\n",
    "'bedrooms',\n",
    "'beds',\n",
    "'accommodates',\n",
    "'price',\n",
    "'review_scores_rating',\n",
    "'number_of_reviews',\n",
    "'latitude',\n",
    "'longitude',\n",
    "'property_type',\n",
    "'description',\n",
    "'amenities',\n",
    "'neighborhood_overview',\n",
    "'host_about'"
   ]
  },
  {
   "cell_type": "code",
   "execution_count": null,
   "id": "38ad5908",
   "metadata": {},
   "outputs": [],
   "source": [
    "# Exlude same neighborhood\n",
    "# bedrooms not the same\n",
    "# accomodates \n",
    "# price "
   ]
  },
  {
   "cell_type": "code",
   "execution_count": 362,
   "id": "3738e644",
   "metadata": {},
   "outputs": [
    {
     "data": {
      "text/plain": [
       "-0.2632414347745813"
      ]
     },
     "execution_count": 362,
     "metadata": {},
     "output_type": "execute_result"
    }
   ],
   "source": [
    "np.log10(60) - np.log10(110)"
   ]
  },
  {
   "cell_type": "code",
   "execution_count": 356,
   "id": "7406ccae",
   "metadata": {},
   "outputs": [
    {
     "data": {
      "text/plain": [
       "915.8489319246112"
      ]
     },
     "execution_count": 356,
     "metadata": {},
     "output_type": "execute_result"
    }
   ],
   "source": [
    "900 + 10**1.2"
   ]
  },
  {
   "cell_type": "code",
   "execution_count": 358,
   "id": "39779171",
   "metadata": {},
   "outputs": [
    {
     "data": {
      "text/plain": [
       "2.4771212547196626"
      ]
     },
     "execution_count": 358,
     "metadata": {},
     "output_type": "execute_result"
    }
   ],
   "source": [
    "np.log10(300)"
   ]
  },
  {
   "cell_type": "code",
   "execution_count": 65,
   "id": "ef5acf25",
   "metadata": {},
   "outputs": [],
   "source": [
    "def cos_sim(a, b):\n",
    "    return (a @ b) / (np.linalg.norm(a) * np.linalg.norm(b))"
   ]
  },
  {
   "cell_type": "code",
   "execution_count": 66,
   "id": "6f19c927",
   "metadata": {},
   "outputs": [
    {
     "data": {
      "text/plain": [
       "0.9899494936611667"
      ]
     },
     "execution_count": 66,
     "metadata": {},
     "output_type": "execute_result"
    }
   ],
   "source": [
    "cos_sim(a, b)"
   ]
  },
  {
   "cell_type": "code",
   "execution_count": 68,
   "id": "66cdf214",
   "metadata": {},
   "outputs": [
    {
     "data": {
      "text/plain": [
       "0.9899494936611667"
      ]
     },
     "execution_count": 68,
     "metadata": {},
     "output_type": "execute_result"
    }
   ],
   "source": [
    "cos_sim(np.array([6, 6]), np.array([6, 8]))"
   ]
  },
  {
   "cell_type": "code",
   "execution_count": 60,
   "id": "408003e1",
   "metadata": {},
   "outputs": [],
   "source": [
    "a = np.array([3, 3])\n",
    "b = np.array([3, 4])"
   ]
  },
  {
   "cell_type": "code",
   "execution_count": 63,
   "id": "b215e659",
   "metadata": {},
   "outputs": [
    {
     "data": {
      "text/plain": [
       "4.242640687119285"
      ]
     },
     "execution_count": 63,
     "metadata": {},
     "output_type": "execute_result"
    }
   ],
   "source": [
    "np.linalg.norm(a) . "
   ]
  },
  {
   "cell_type": "code",
   "execution_count": 30,
   "id": "bc98b7dd",
   "metadata": {},
   "outputs": [
    {
     "data": {
      "text/plain": [
       "array([[1.],\n",
       "       [1.],\n",
       "       [1.],\n",
       "       [1.],\n",
       "       [1.]])"
      ]
     },
     "execution_count": 30,
     "metadata": {},
     "output_type": "execute_result"
    }
   ],
   "source": [
    "np.ones((5, 1))"
   ]
  },
  {
   "cell_type": "code",
   "execution_count": null,
   "id": "4f1fcb0d",
   "metadata": {},
   "outputs": [],
   "source": []
  }
 ],
 "metadata": {
  "kernelspec": {
   "display_name": "Python 3 (ipykernel)",
   "language": "python",
   "name": "python3"
  },
  "language_info": {
   "codemirror_mode": {
    "name": "ipython",
    "version": 3
   },
   "file_extension": ".py",
   "mimetype": "text/x-python",
   "name": "python",
   "nbconvert_exporter": "python",
   "pygments_lexer": "ipython3",
   "version": "3.10.6"
  }
 },
 "nbformat": 4,
 "nbformat_minor": 5
}
